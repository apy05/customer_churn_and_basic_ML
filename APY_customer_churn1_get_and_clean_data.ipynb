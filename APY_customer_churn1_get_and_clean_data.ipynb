{
 "cells": [
  {
   "cell_type": "markdown",
   "id": "5504756e",
   "metadata": {},
   "source": [
    "# Modelling Customer Churn 1 - Getting and Cleaning Data\n",
    "\n",
    "## A. P. Young\n",
    "\n",
    "### 2022-04-02"
   ]
  },
  {
   "cell_type": "code",
   "execution_count": 1,
   "id": "bbdd1adf",
   "metadata": {},
   "outputs": [],
   "source": [
    "import time\n",
    "START = time.time()\n",
    "import datetime\n",
    "from datetime import timedelta\n",
    "import os\n",
    "import pandas as pd\n",
    "from collections import Counter"
   ]
  },
  {
   "cell_type": "markdown",
   "id": "14906f50",
   "metadata": {},
   "source": [
    "# Introduction\n",
    "\n",
    "We want to model and understand the reasons behind customer churn. **Customer churn** refers to when customers have voluntarily stopped using a business' services within a given time window, usually expressed as a rate or a percentage. Usually, it is more expensive for businesses to acquire new customers than keep existing customers. Therefore, measuring, modelling and understanding customer churn is important for businesses, especially in industries where churn rate is high (e.g. mobile phones, insurance, internet service providers... etc.)\n",
    "\n",
    "For more details, see https://www.investopedia.com/terms/c/churnrate.asp (last accessed 3/4/2022)\n",
    "\n",
    "The dataset is from Kaggle - https://www.kaggle.com/datasets/blastchar/telco-customer-churn (last accessed 2/4/2022)."
   ]
  },
  {
   "cell_type": "markdown",
   "id": "490be3b2",
   "metadata": {},
   "source": [
    "# Get Data\n",
    "\n",
    "We have already downloaded the data from the above link into this directory and renamed the file."
   ]
  },
  {
   "cell_type": "code",
   "execution_count": 2,
   "id": "228d7567",
   "metadata": {},
   "outputs": [],
   "source": [
    "data_filename = 'customer_churn.csv'"
   ]
  },
  {
   "cell_type": "markdown",
   "id": "43b1b192",
   "metadata": {},
   "source": [
    "The file is a single csv file of less than $1Mb$. We load the table into memory."
   ]
  },
  {
   "cell_type": "code",
   "execution_count": 3,
   "id": "db2338f1",
   "metadata": {},
   "outputs": [],
   "source": [
    "data = pd.read_csv(data_filename)"
   ]
  },
  {
   "cell_type": "markdown",
   "id": "5a69623c",
   "metadata": {},
   "source": [
    "We have $n = 7043$ for this dataset."
   ]
  },
  {
   "cell_type": "code",
   "execution_count": 4,
   "id": "11c75364",
   "metadata": {},
   "outputs": [
    {
     "data": {
      "text/plain": [
       "(7043, 21)"
      ]
     },
     "execution_count": 4,
     "metadata": {},
     "output_type": "execute_result"
    }
   ],
   "source": [
    "data.shape"
   ]
  },
  {
   "cell_type": "markdown",
   "id": "84b86184",
   "metadata": {},
   "source": [
    "We can inspect the first five rows."
   ]
  },
  {
   "cell_type": "code",
   "execution_count": 5,
   "id": "ceac52e4",
   "metadata": {},
   "outputs": [
    {
     "data": {
      "text/html": [
       "<div>\n",
       "<style scoped>\n",
       "    .dataframe tbody tr th:only-of-type {\n",
       "        vertical-align: middle;\n",
       "    }\n",
       "\n",
       "    .dataframe tbody tr th {\n",
       "        vertical-align: top;\n",
       "    }\n",
       "\n",
       "    .dataframe thead th {\n",
       "        text-align: right;\n",
       "    }\n",
       "</style>\n",
       "<table border=\"1\" class=\"dataframe\">\n",
       "  <thead>\n",
       "    <tr style=\"text-align: right;\">\n",
       "      <th></th>\n",
       "      <th>customerID</th>\n",
       "      <th>gender</th>\n",
       "      <th>SeniorCitizen</th>\n",
       "      <th>Partner</th>\n",
       "      <th>Dependents</th>\n",
       "      <th>tenure</th>\n",
       "      <th>PhoneService</th>\n",
       "      <th>MultipleLines</th>\n",
       "      <th>InternetService</th>\n",
       "      <th>OnlineSecurity</th>\n",
       "      <th>...</th>\n",
       "      <th>DeviceProtection</th>\n",
       "      <th>TechSupport</th>\n",
       "      <th>StreamingTV</th>\n",
       "      <th>StreamingMovies</th>\n",
       "      <th>Contract</th>\n",
       "      <th>PaperlessBilling</th>\n",
       "      <th>PaymentMethod</th>\n",
       "      <th>MonthlyCharges</th>\n",
       "      <th>TotalCharges</th>\n",
       "      <th>Churn</th>\n",
       "    </tr>\n",
       "  </thead>\n",
       "  <tbody>\n",
       "    <tr>\n",
       "      <th>0</th>\n",
       "      <td>7590-VHVEG</td>\n",
       "      <td>Female</td>\n",
       "      <td>0</td>\n",
       "      <td>Yes</td>\n",
       "      <td>No</td>\n",
       "      <td>1</td>\n",
       "      <td>No</td>\n",
       "      <td>No phone service</td>\n",
       "      <td>DSL</td>\n",
       "      <td>No</td>\n",
       "      <td>...</td>\n",
       "      <td>No</td>\n",
       "      <td>No</td>\n",
       "      <td>No</td>\n",
       "      <td>No</td>\n",
       "      <td>Month-to-month</td>\n",
       "      <td>Yes</td>\n",
       "      <td>Electronic check</td>\n",
       "      <td>29.85</td>\n",
       "      <td>29.85</td>\n",
       "      <td>No</td>\n",
       "    </tr>\n",
       "    <tr>\n",
       "      <th>1</th>\n",
       "      <td>5575-GNVDE</td>\n",
       "      <td>Male</td>\n",
       "      <td>0</td>\n",
       "      <td>No</td>\n",
       "      <td>No</td>\n",
       "      <td>34</td>\n",
       "      <td>Yes</td>\n",
       "      <td>No</td>\n",
       "      <td>DSL</td>\n",
       "      <td>Yes</td>\n",
       "      <td>...</td>\n",
       "      <td>Yes</td>\n",
       "      <td>No</td>\n",
       "      <td>No</td>\n",
       "      <td>No</td>\n",
       "      <td>One year</td>\n",
       "      <td>No</td>\n",
       "      <td>Mailed check</td>\n",
       "      <td>56.95</td>\n",
       "      <td>1889.5</td>\n",
       "      <td>No</td>\n",
       "    </tr>\n",
       "    <tr>\n",
       "      <th>2</th>\n",
       "      <td>3668-QPYBK</td>\n",
       "      <td>Male</td>\n",
       "      <td>0</td>\n",
       "      <td>No</td>\n",
       "      <td>No</td>\n",
       "      <td>2</td>\n",
       "      <td>Yes</td>\n",
       "      <td>No</td>\n",
       "      <td>DSL</td>\n",
       "      <td>Yes</td>\n",
       "      <td>...</td>\n",
       "      <td>No</td>\n",
       "      <td>No</td>\n",
       "      <td>No</td>\n",
       "      <td>No</td>\n",
       "      <td>Month-to-month</td>\n",
       "      <td>Yes</td>\n",
       "      <td>Mailed check</td>\n",
       "      <td>53.85</td>\n",
       "      <td>108.15</td>\n",
       "      <td>Yes</td>\n",
       "    </tr>\n",
       "    <tr>\n",
       "      <th>3</th>\n",
       "      <td>7795-CFOCW</td>\n",
       "      <td>Male</td>\n",
       "      <td>0</td>\n",
       "      <td>No</td>\n",
       "      <td>No</td>\n",
       "      <td>45</td>\n",
       "      <td>No</td>\n",
       "      <td>No phone service</td>\n",
       "      <td>DSL</td>\n",
       "      <td>Yes</td>\n",
       "      <td>...</td>\n",
       "      <td>Yes</td>\n",
       "      <td>Yes</td>\n",
       "      <td>No</td>\n",
       "      <td>No</td>\n",
       "      <td>One year</td>\n",
       "      <td>No</td>\n",
       "      <td>Bank transfer (automatic)</td>\n",
       "      <td>42.30</td>\n",
       "      <td>1840.75</td>\n",
       "      <td>No</td>\n",
       "    </tr>\n",
       "    <tr>\n",
       "      <th>4</th>\n",
       "      <td>9237-HQITU</td>\n",
       "      <td>Female</td>\n",
       "      <td>0</td>\n",
       "      <td>No</td>\n",
       "      <td>No</td>\n",
       "      <td>2</td>\n",
       "      <td>Yes</td>\n",
       "      <td>No</td>\n",
       "      <td>Fiber optic</td>\n",
       "      <td>No</td>\n",
       "      <td>...</td>\n",
       "      <td>No</td>\n",
       "      <td>No</td>\n",
       "      <td>No</td>\n",
       "      <td>No</td>\n",
       "      <td>Month-to-month</td>\n",
       "      <td>Yes</td>\n",
       "      <td>Electronic check</td>\n",
       "      <td>70.70</td>\n",
       "      <td>151.65</td>\n",
       "      <td>Yes</td>\n",
       "    </tr>\n",
       "  </tbody>\n",
       "</table>\n",
       "<p>5 rows × 21 columns</p>\n",
       "</div>"
      ],
      "text/plain": [
       "   customerID  gender  SeniorCitizen Partner Dependents  tenure PhoneService  \\\n",
       "0  7590-VHVEG  Female              0     Yes         No       1           No   \n",
       "1  5575-GNVDE    Male              0      No         No      34          Yes   \n",
       "2  3668-QPYBK    Male              0      No         No       2          Yes   \n",
       "3  7795-CFOCW    Male              0      No         No      45           No   \n",
       "4  9237-HQITU  Female              0      No         No       2          Yes   \n",
       "\n",
       "      MultipleLines InternetService OnlineSecurity  ... DeviceProtection  \\\n",
       "0  No phone service             DSL             No  ...               No   \n",
       "1                No             DSL            Yes  ...              Yes   \n",
       "2                No             DSL            Yes  ...               No   \n",
       "3  No phone service             DSL            Yes  ...              Yes   \n",
       "4                No     Fiber optic             No  ...               No   \n",
       "\n",
       "  TechSupport StreamingTV StreamingMovies        Contract PaperlessBilling  \\\n",
       "0          No          No              No  Month-to-month              Yes   \n",
       "1          No          No              No        One year               No   \n",
       "2          No          No              No  Month-to-month              Yes   \n",
       "3         Yes          No              No        One year               No   \n",
       "4          No          No              No  Month-to-month              Yes   \n",
       "\n",
       "               PaymentMethod MonthlyCharges  TotalCharges Churn  \n",
       "0           Electronic check          29.85         29.85    No  \n",
       "1               Mailed check          56.95        1889.5    No  \n",
       "2               Mailed check          53.85        108.15   Yes  \n",
       "3  Bank transfer (automatic)          42.30       1840.75    No  \n",
       "4           Electronic check          70.70        151.65   Yes  \n",
       "\n",
       "[5 rows x 21 columns]"
      ]
     },
     "execution_count": 5,
     "metadata": {},
     "output_type": "execute_result"
    }
   ],
   "source": [
    "data.head()"
   ]
  },
  {
   "cell_type": "markdown",
   "id": "9c8cd4fb",
   "metadata": {},
   "source": [
    "## Data Dictionary\n",
    "\n",
    "We have a data dictionary from the Kaggle link above, which explains all columns.\n",
    "\n",
    "The independent variables (features) are grouped into several categories:\n",
    "\n",
    "  1. `customerID` is the customer ID.\n",
    "  \n",
    "We then have attributes of the customers:\n",
    "  \n",
    "  2. `gender` denotes whether the customer is male or female.\n",
    "  \n",
    "  3. `SeniorCitizen` denotes whether the customer is a senior citizen, $\\in\\{0,1\\}$.\n",
    "  \n",
    "  4. `Partner` denotes whether the customer has a partner or not.\n",
    "  \n",
    "  5. `Dependents` denotes whether a customer has dependents or not.\n",
    "\n",
    "We then have the customers' relationships with the business in terms of the services used:\n",
    "\n",
    "  6. `tenure` denotes the number of months the customer has stayed with the company / used the business' services.\n",
    "  \n",
    "  7. `PhoneService` denotes whether the customer has a phone service or not.\n",
    "  \n",
    "  8. `MultipleLines` denotes whether the customer has multiple lines or not, given that the customer has phone service.\n",
    "  \n",
    "  9. `InternetService` denotes the customer's internet service provider.\n",
    "  \n",
    "  10. `OnlineSecurity` denotes whether the customer has online security, given that the customer has internet service.\n",
    "  \n",
    "  11. `OnlineBackup` denotes whether the customer has online backup, given that the customer has internet service.\n",
    "  \n",
    "  12. `DeviceProtection` denotes whether the customer has online backup, given that the customer has internet service.\n",
    "  \n",
    "  13. `TechSupport` denotes whether the customer has tech support, given that the customer has internet service.\n",
    "  \n",
    "  14. `StreamingTV` denotes whether the customer has streaming TV, given that the customer has internet service.\n",
    "  \n",
    "  15. `StreamingMovies` denotes whether the customer has streaming movies.\n",
    "  \n",
    "We then have financial information:\n",
    "  \n",
    "  16. `Contract` denotes whether the customer has a monthly contract, a one-year contract or a two-year contract.\n",
    "  \n",
    "  17. `PaperlessBilling` denotes whether the customer has paperless billing or not.\n",
    "  \n",
    "  18. `PaymentMethod` denotes how the customer is paying.\n",
    "  \n",
    "  19. `MonthlyCharges` is the amount charged to the customer monthly.\n",
    "  \n",
    "  20. `TotalCharges` is the total amount charged to the customer so far.\n",
    "\n",
    "The dependent variable (target) is `Churn` which denotes whether the customer has churned or not; this is the last column."
   ]
  },
  {
   "cell_type": "markdown",
   "id": "203c7dcd",
   "metadata": {},
   "source": [
    "# Data Science Questions\n",
    "\n",
    "  1. How can we accurately model customer churn given this dataset?\n",
    "  \n",
    "  2. What are the most important features that influence customer churn?"
   ]
  },
  {
   "cell_type": "markdown",
   "id": "fd2e8212",
   "metadata": {},
   "source": [
    "# Clean Data\n",
    "\n",
    "We clean the data by examining which features to keep and how all features can be represented numerically. The principles we apply are as follows:\n",
    "\n",
    "  1. If a column's values are totally unique, i.e. a column has as many distinct values as there are rows in the column, then it has no predictive power and we delete it.\n",
    "  \n",
    "  2. If a column only has two values which are variations of `yes` and `no`, we replace these values respectively with $1$ and $0$.\n",
    "  \n",
    "  3. If a column is categorical, we make a one-hot representation of that column.\n",
    "  \n",
    "We first inspect these properties by eye by iterating across each feature and noting whether the features values are totally unique, and if not, print out the values and their counts."
   ]
  },
  {
   "cell_type": "code",
   "execution_count": 6,
   "id": "fe7dc889",
   "metadata": {},
   "outputs": [
    {
     "name": "stdout",
     "output_type": "stream",
     "text": [
      "customerID\n",
      "Totally Unique values\n",
      "\n",
      "gender\n",
      "Counter({'Male': 3555, 'Female': 3488})\n",
      "\n",
      "SeniorCitizen\n",
      "Counter({0: 5901, 1: 1142})\n",
      "\n",
      "Partner\n",
      "Counter({'No': 3641, 'Yes': 3402})\n",
      "\n",
      "Dependents\n",
      "Counter({'No': 4933, 'Yes': 2110})\n",
      "\n",
      "tenure\n",
      "Too many distinct values to list, perhaps this variable is numerical?\n",
      "\n",
      "PhoneService\n",
      "Counter({'Yes': 6361, 'No': 682})\n",
      "\n",
      "MultipleLines\n",
      "Counter({'No': 3390, 'Yes': 2971, 'No phone service': 682})\n",
      "\n",
      "InternetService\n",
      "Counter({'Fiber optic': 3096, 'DSL': 2421, 'No': 1526})\n",
      "\n",
      "OnlineSecurity\n",
      "Counter({'No': 3498, 'Yes': 2019, 'No internet service': 1526})\n",
      "\n",
      "OnlineBackup\n",
      "Counter({'No': 3088, 'Yes': 2429, 'No internet service': 1526})\n",
      "\n",
      "DeviceProtection\n",
      "Counter({'No': 3095, 'Yes': 2422, 'No internet service': 1526})\n",
      "\n",
      "TechSupport\n",
      "Counter({'No': 3473, 'Yes': 2044, 'No internet service': 1526})\n",
      "\n",
      "StreamingTV\n",
      "Counter({'No': 2810, 'Yes': 2707, 'No internet service': 1526})\n",
      "\n",
      "StreamingMovies\n",
      "Counter({'No': 2785, 'Yes': 2732, 'No internet service': 1526})\n",
      "\n",
      "Contract\n",
      "Counter({'Month-to-month': 3875, 'Two year': 1695, 'One year': 1473})\n",
      "\n",
      "PaperlessBilling\n",
      "Counter({'Yes': 4171, 'No': 2872})\n",
      "\n",
      "PaymentMethod\n",
      "Counter({'Electronic check': 2365, 'Mailed check': 1612, 'Bank transfer (automatic)': 1544, 'Credit card (automatic)': 1522})\n",
      "\n",
      "MonthlyCharges\n",
      "Too many distinct values to list, perhaps this variable is numerical?\n",
      "\n",
      "TotalCharges\n",
      "Too many distinct values to list, perhaps this variable is numerical?\n",
      "\n",
      "Churn\n",
      "Counter({'No': 5174, 'Yes': 1869})\n",
      "\n"
     ]
    }
   ],
   "source": [
    "for feature in list(data):\n",
    "    print(feature)\n",
    "    column = data[feature]\n",
    "    count_of_values = Counter(column)\n",
    "    if len(set(count_of_values.values())) == 1:\n",
    "        print('Totally Unique values')\n",
    "    # we use 10 as a rough heuristic\n",
    "    # i.e. it is unlikely for this data that a categorical\n",
    "    # variable has more than 10 categories\n",
    "    elif len(count_of_values) > 10:\n",
    "        print('Too many distinct values to list, perhaps this variable is numerical?')\n",
    "    else:\n",
    "        print(count_of_values)\n",
    "    print()"
   ]
  },
  {
   "cell_type": "markdown",
   "id": "8763086a",
   "metadata": {},
   "source": [
    "We can see that:\n",
    "\n",
    "  1. `customerID` has unique values, so it has no predictive power and we remove it from our independent variables.\n",
    "  \n",
    "  2. `gender` is a categorical variable and we can split it using a one-hot representation into two variables `is_male` and `is_female`. However, common sense states that both of these variables will be perfectly anticorrelated. Therefore, we will translate `gender` to `is_female` ($1$ = `Female`, $0$ = `Male`).\n",
    "\n",
    "  3. `SeniorCitizen`, `Partner`, `Dependents`, `PhoneService`, `PaperlessBilling` and `Churn` are already Boolean variables. We will replace `No` with $0$ and `Yes` with $1$ in all cases.\n",
    "  \n",
    "  4. `tenure` we will rename `tenure/month` and keep the integer values.\n",
    "  \n",
    "  5. `MonthlyCharges` and `TotalCharges` are already floats which we will keep. HOWEVER, notice that `TotalCharges` are STRINGS of floats, and there are also empty strings / spaces amongst its values, perhaps because a customer has churned before they have a total charge. We will need to fix this.\n",
    "\n",
    "These are not all the features - we will come to features such as `StreamingTV` and `PaymentMethod` in a moment.\n",
    "\n",
    "We will perform the above transformations. First, we will drop `customerID`."
   ]
  },
  {
   "cell_type": "code",
   "execution_count": 7,
   "id": "32aa45db",
   "metadata": {},
   "outputs": [],
   "source": [
    "data = data.drop(columns = 'customerID')"
   ]
  },
  {
   "cell_type": "markdown",
   "id": "11945870",
   "metadata": {},
   "source": [
    "We will change `gender` into `is_female` and make the appropriate numerical replacements. We write a helper function to do so:"
   ]
  },
  {
   "cell_type": "code",
   "execution_count": 8,
   "id": "f20bc492",
   "metadata": {},
   "outputs": [],
   "source": [
    "def change_into_zero_one_column(mydf, col_name, pos, neg):\n",
    "    \"\"\"\n",
    "    Input a dataframe, column name string (present in the dataframe),\n",
    "    positive value string and negative value string\n",
    "    Output same dataframe (does not mutate input)\n",
    "    with positive values replaced with 1 and negative values\n",
    "    replaced with 0\n",
    "    Of course this is only useful if the column is Boolean\n",
    "    \"\"\"\n",
    "    answer = mydf.copy()\n",
    "    mycol = answer[col_name]\n",
    "    mycol = mycol.replace(pos, 1)\n",
    "    mycol = mycol.replace(neg, 0)\n",
    "    answer[col_name] = mycol\n",
    "    return answer"
   ]
  },
  {
   "cell_type": "markdown",
   "id": "92dab685",
   "metadata": {},
   "source": [
    "Check the frequency of values:"
   ]
  },
  {
   "cell_type": "code",
   "execution_count": 9,
   "id": "cedaad79",
   "metadata": {},
   "outputs": [
    {
     "data": {
      "text/plain": [
       "Counter({'Female': 3488, 'Male': 3555})"
      ]
     },
     "execution_count": 9,
     "metadata": {},
     "output_type": "execute_result"
    }
   ],
   "source": [
    "Counter(data['gender'])"
   ]
  },
  {
   "cell_type": "markdown",
   "id": "2a5c9efc",
   "metadata": {},
   "source": [
    "We change the string values into integers."
   ]
  },
  {
   "cell_type": "code",
   "execution_count": 10,
   "id": "bebf2f36",
   "metadata": {},
   "outputs": [],
   "source": [
    "data = change_into_zero_one_column(data, 'gender', 'Female', 'Male')"
   ]
  },
  {
   "cell_type": "markdown",
   "id": "df775924",
   "metadata": {},
   "source": [
    "We rename the column accordingly, and we also change `tenure` to `tenure/month`."
   ]
  },
  {
   "cell_type": "code",
   "execution_count": 11,
   "id": "c2beb806",
   "metadata": {},
   "outputs": [],
   "source": [
    "data = data.rename(columns = {'gender' : 'is_female',\n",
    "                              'tenure' : 'tenure/month'})"
   ]
  },
  {
   "cell_type": "markdown",
   "id": "fb4ef46f",
   "metadata": {},
   "source": [
    "We check the resulting values:"
   ]
  },
  {
   "cell_type": "code",
   "execution_count": 12,
   "id": "972fa69e",
   "metadata": {},
   "outputs": [
    {
     "data": {
      "text/plain": [
       "Counter({1: 3488, 0: 3555})"
      ]
     },
     "execution_count": 12,
     "metadata": {},
     "output_type": "execute_result"
    }
   ],
   "source": [
    "Counter(data['is_female'])"
   ]
  },
  {
   "cell_type": "markdown",
   "id": "c8819236",
   "metadata": {},
   "source": [
    "Notice these counts match those of `gender`, so the replacement should be correct.\n",
    "\n",
    "We now perform step 3 above for other Boolean features. `SeniorCitizen` already has an integer representation so we will not change it."
   ]
  },
  {
   "cell_type": "code",
   "execution_count": 13,
   "id": "51fec10a",
   "metadata": {},
   "outputs": [],
   "source": [
    "boolean_columns = ['Partner', 'Dependents', 'PhoneService',\n",
    "                   'PaperlessBilling', 'Churn']"
   ]
  },
  {
   "cell_type": "markdown",
   "id": "71b5ea17",
   "metadata": {},
   "source": [
    "We verify that for all of these columns, we only have `No` and `Yes`."
   ]
  },
  {
   "cell_type": "code",
   "execution_count": 14,
   "id": "032e0a06",
   "metadata": {},
   "outputs": [
    {
     "name": "stdout",
     "output_type": "stream",
     "text": [
      "Partner\n",
      "Counter({'No': 3641, 'Yes': 3402})\n",
      "\n",
      "Dependents\n",
      "Counter({'No': 4933, 'Yes': 2110})\n",
      "\n",
      "PhoneService\n",
      "Counter({'Yes': 6361, 'No': 682})\n",
      "\n",
      "PaperlessBilling\n",
      "Counter({'Yes': 4171, 'No': 2872})\n",
      "\n",
      "Churn\n",
      "Counter({'No': 5174, 'Yes': 1869})\n",
      "\n"
     ]
    }
   ],
   "source": [
    "for feature in boolean_columns:\n",
    "    print(feature)\n",
    "    print(Counter(data[feature]))\n",
    "    print()"
   ]
  },
  {
   "cell_type": "markdown",
   "id": "5c498080",
   "metadata": {},
   "source": [
    "We make the changes:"
   ]
  },
  {
   "cell_type": "code",
   "execution_count": 15,
   "id": "2a29d2ad",
   "metadata": {},
   "outputs": [],
   "source": [
    "for feature in boolean_columns:\n",
    "    data = change_into_zero_one_column(data, feature, 'Yes', 'No')"
   ]
  },
  {
   "cell_type": "markdown",
   "id": "14fac217",
   "metadata": {},
   "source": [
    "We check the columns:"
   ]
  },
  {
   "cell_type": "code",
   "execution_count": 16,
   "id": "01174d1a",
   "metadata": {},
   "outputs": [
    {
     "name": "stdout",
     "output_type": "stream",
     "text": [
      "Partner\n",
      "Counter({0: 3641, 1: 3402})\n",
      "\n",
      "Dependents\n",
      "Counter({0: 4933, 1: 2110})\n",
      "\n",
      "PhoneService\n",
      "Counter({1: 6361, 0: 682})\n",
      "\n",
      "PaperlessBilling\n",
      "Counter({1: 4171, 0: 2872})\n",
      "\n",
      "Churn\n",
      "Counter({0: 5174, 1: 1869})\n",
      "\n"
     ]
    }
   ],
   "source": [
    "for feature in boolean_columns:\n",
    "    print(feature)\n",
    "    print(Counter(data[feature]))\n",
    "    print()"
   ]
  },
  {
   "cell_type": "markdown",
   "id": "d2e15a3d",
   "metadata": {},
   "source": [
    "The counts match exactly so we assume the transformation is correct.\n",
    "\n",
    "We now check that `MonthlyCharges` have all floats:"
   ]
  },
  {
   "cell_type": "code",
   "execution_count": 17,
   "id": "09bf1a49",
   "metadata": {},
   "outputs": [
    {
     "data": {
      "text/plain": [
       "Counter({float: 7043})"
      ]
     },
     "execution_count": 17,
     "metadata": {},
     "output_type": "execute_result"
    }
   ],
   "source": [
    "Counter([type(item) for item in data['MonthlyCharges']])"
   ]
  },
  {
   "cell_type": "markdown",
   "id": "38954f11",
   "metadata": {},
   "source": [
    "We know that `TotalCharges` have string-floats, but also there are non-float strings. They are:"
   ]
  },
  {
   "cell_type": "code",
   "execution_count": 18,
   "id": "13481937",
   "metadata": {},
   "outputs": [],
   "source": [
    "total_charges_non_float_strings = []\n",
    "for item in data['TotalCharges']:\n",
    "    try:\n",
    "        float(item)\n",
    "        continue\n",
    "    except:\n",
    "        total_charges_non_float_strings.append(item)"
   ]
  },
  {
   "cell_type": "code",
   "execution_count": 19,
   "id": "7609e25a",
   "metadata": {},
   "outputs": [
    {
     "data": {
      "text/plain": [
       "Counter({' ': 11})"
      ]
     },
     "execution_count": 19,
     "metadata": {},
     "output_type": "execute_result"
    }
   ],
   "source": [
    "Counter(total_charges_non_float_strings)"
   ]
  },
  {
   "cell_type": "markdown",
   "id": "2c602678",
   "metadata": {},
   "source": [
    "So the only non-float string is a single space ` `. What does this mean? Consider the sub-dataframe:"
   ]
  },
  {
   "cell_type": "code",
   "execution_count": 20,
   "id": "126025b9",
   "metadata": {},
   "outputs": [
    {
     "data": {
      "text/html": [
       "<div>\n",
       "<style scoped>\n",
       "    .dataframe tbody tr th:only-of-type {\n",
       "        vertical-align: middle;\n",
       "    }\n",
       "\n",
       "    .dataframe tbody tr th {\n",
       "        vertical-align: top;\n",
       "    }\n",
       "\n",
       "    .dataframe thead th {\n",
       "        text-align: right;\n",
       "    }\n",
       "</style>\n",
       "<table border=\"1\" class=\"dataframe\">\n",
       "  <thead>\n",
       "    <tr style=\"text-align: right;\">\n",
       "      <th></th>\n",
       "      <th>is_female</th>\n",
       "      <th>SeniorCitizen</th>\n",
       "      <th>Partner</th>\n",
       "      <th>Dependents</th>\n",
       "      <th>tenure/month</th>\n",
       "      <th>PhoneService</th>\n",
       "      <th>MultipleLines</th>\n",
       "      <th>InternetService</th>\n",
       "      <th>OnlineSecurity</th>\n",
       "      <th>OnlineBackup</th>\n",
       "      <th>DeviceProtection</th>\n",
       "      <th>TechSupport</th>\n",
       "      <th>StreamingTV</th>\n",
       "      <th>StreamingMovies</th>\n",
       "      <th>Contract</th>\n",
       "      <th>PaperlessBilling</th>\n",
       "      <th>PaymentMethod</th>\n",
       "      <th>MonthlyCharges</th>\n",
       "      <th>TotalCharges</th>\n",
       "      <th>Churn</th>\n",
       "    </tr>\n",
       "  </thead>\n",
       "  <tbody>\n",
       "    <tr>\n",
       "      <th>488</th>\n",
       "      <td>1</td>\n",
       "      <td>0</td>\n",
       "      <td>1</td>\n",
       "      <td>1</td>\n",
       "      <td>0</td>\n",
       "      <td>0</td>\n",
       "      <td>No phone service</td>\n",
       "      <td>DSL</td>\n",
       "      <td>Yes</td>\n",
       "      <td>No</td>\n",
       "      <td>Yes</td>\n",
       "      <td>Yes</td>\n",
       "      <td>Yes</td>\n",
       "      <td>No</td>\n",
       "      <td>Two year</td>\n",
       "      <td>1</td>\n",
       "      <td>Bank transfer (automatic)</td>\n",
       "      <td>52.55</td>\n",
       "      <td></td>\n",
       "      <td>0</td>\n",
       "    </tr>\n",
       "    <tr>\n",
       "      <th>753</th>\n",
       "      <td>0</td>\n",
       "      <td>0</td>\n",
       "      <td>0</td>\n",
       "      <td>1</td>\n",
       "      <td>0</td>\n",
       "      <td>1</td>\n",
       "      <td>No</td>\n",
       "      <td>No</td>\n",
       "      <td>No internet service</td>\n",
       "      <td>No internet service</td>\n",
       "      <td>No internet service</td>\n",
       "      <td>No internet service</td>\n",
       "      <td>No internet service</td>\n",
       "      <td>No internet service</td>\n",
       "      <td>Two year</td>\n",
       "      <td>0</td>\n",
       "      <td>Mailed check</td>\n",
       "      <td>20.25</td>\n",
       "      <td></td>\n",
       "      <td>0</td>\n",
       "    </tr>\n",
       "    <tr>\n",
       "      <th>936</th>\n",
       "      <td>1</td>\n",
       "      <td>0</td>\n",
       "      <td>1</td>\n",
       "      <td>1</td>\n",
       "      <td>0</td>\n",
       "      <td>1</td>\n",
       "      <td>No</td>\n",
       "      <td>DSL</td>\n",
       "      <td>Yes</td>\n",
       "      <td>Yes</td>\n",
       "      <td>Yes</td>\n",
       "      <td>No</td>\n",
       "      <td>Yes</td>\n",
       "      <td>Yes</td>\n",
       "      <td>Two year</td>\n",
       "      <td>0</td>\n",
       "      <td>Mailed check</td>\n",
       "      <td>80.85</td>\n",
       "      <td></td>\n",
       "      <td>0</td>\n",
       "    </tr>\n",
       "    <tr>\n",
       "      <th>1082</th>\n",
       "      <td>0</td>\n",
       "      <td>0</td>\n",
       "      <td>1</td>\n",
       "      <td>1</td>\n",
       "      <td>0</td>\n",
       "      <td>1</td>\n",
       "      <td>Yes</td>\n",
       "      <td>No</td>\n",
       "      <td>No internet service</td>\n",
       "      <td>No internet service</td>\n",
       "      <td>No internet service</td>\n",
       "      <td>No internet service</td>\n",
       "      <td>No internet service</td>\n",
       "      <td>No internet service</td>\n",
       "      <td>Two year</td>\n",
       "      <td>0</td>\n",
       "      <td>Mailed check</td>\n",
       "      <td>25.75</td>\n",
       "      <td></td>\n",
       "      <td>0</td>\n",
       "    </tr>\n",
       "    <tr>\n",
       "      <th>1340</th>\n",
       "      <td>1</td>\n",
       "      <td>0</td>\n",
       "      <td>1</td>\n",
       "      <td>1</td>\n",
       "      <td>0</td>\n",
       "      <td>0</td>\n",
       "      <td>No phone service</td>\n",
       "      <td>DSL</td>\n",
       "      <td>Yes</td>\n",
       "      <td>Yes</td>\n",
       "      <td>Yes</td>\n",
       "      <td>Yes</td>\n",
       "      <td>Yes</td>\n",
       "      <td>No</td>\n",
       "      <td>Two year</td>\n",
       "      <td>0</td>\n",
       "      <td>Credit card (automatic)</td>\n",
       "      <td>56.05</td>\n",
       "      <td></td>\n",
       "      <td>0</td>\n",
       "    </tr>\n",
       "    <tr>\n",
       "      <th>3331</th>\n",
       "      <td>0</td>\n",
       "      <td>0</td>\n",
       "      <td>1</td>\n",
       "      <td>1</td>\n",
       "      <td>0</td>\n",
       "      <td>1</td>\n",
       "      <td>No</td>\n",
       "      <td>No</td>\n",
       "      <td>No internet service</td>\n",
       "      <td>No internet service</td>\n",
       "      <td>No internet service</td>\n",
       "      <td>No internet service</td>\n",
       "      <td>No internet service</td>\n",
       "      <td>No internet service</td>\n",
       "      <td>Two year</td>\n",
       "      <td>0</td>\n",
       "      <td>Mailed check</td>\n",
       "      <td>19.85</td>\n",
       "      <td></td>\n",
       "      <td>0</td>\n",
       "    </tr>\n",
       "    <tr>\n",
       "      <th>3826</th>\n",
       "      <td>0</td>\n",
       "      <td>0</td>\n",
       "      <td>1</td>\n",
       "      <td>1</td>\n",
       "      <td>0</td>\n",
       "      <td>1</td>\n",
       "      <td>Yes</td>\n",
       "      <td>No</td>\n",
       "      <td>No internet service</td>\n",
       "      <td>No internet service</td>\n",
       "      <td>No internet service</td>\n",
       "      <td>No internet service</td>\n",
       "      <td>No internet service</td>\n",
       "      <td>No internet service</td>\n",
       "      <td>Two year</td>\n",
       "      <td>0</td>\n",
       "      <td>Mailed check</td>\n",
       "      <td>25.35</td>\n",
       "      <td></td>\n",
       "      <td>0</td>\n",
       "    </tr>\n",
       "    <tr>\n",
       "      <th>4380</th>\n",
       "      <td>1</td>\n",
       "      <td>0</td>\n",
       "      <td>1</td>\n",
       "      <td>1</td>\n",
       "      <td>0</td>\n",
       "      <td>1</td>\n",
       "      <td>No</td>\n",
       "      <td>No</td>\n",
       "      <td>No internet service</td>\n",
       "      <td>No internet service</td>\n",
       "      <td>No internet service</td>\n",
       "      <td>No internet service</td>\n",
       "      <td>No internet service</td>\n",
       "      <td>No internet service</td>\n",
       "      <td>Two year</td>\n",
       "      <td>0</td>\n",
       "      <td>Mailed check</td>\n",
       "      <td>20.00</td>\n",
       "      <td></td>\n",
       "      <td>0</td>\n",
       "    </tr>\n",
       "    <tr>\n",
       "      <th>5218</th>\n",
       "      <td>0</td>\n",
       "      <td>0</td>\n",
       "      <td>1</td>\n",
       "      <td>1</td>\n",
       "      <td>0</td>\n",
       "      <td>1</td>\n",
       "      <td>No</td>\n",
       "      <td>No</td>\n",
       "      <td>No internet service</td>\n",
       "      <td>No internet service</td>\n",
       "      <td>No internet service</td>\n",
       "      <td>No internet service</td>\n",
       "      <td>No internet service</td>\n",
       "      <td>No internet service</td>\n",
       "      <td>One year</td>\n",
       "      <td>1</td>\n",
       "      <td>Mailed check</td>\n",
       "      <td>19.70</td>\n",
       "      <td></td>\n",
       "      <td>0</td>\n",
       "    </tr>\n",
       "    <tr>\n",
       "      <th>6670</th>\n",
       "      <td>1</td>\n",
       "      <td>0</td>\n",
       "      <td>1</td>\n",
       "      <td>1</td>\n",
       "      <td>0</td>\n",
       "      <td>1</td>\n",
       "      <td>Yes</td>\n",
       "      <td>DSL</td>\n",
       "      <td>No</td>\n",
       "      <td>Yes</td>\n",
       "      <td>Yes</td>\n",
       "      <td>Yes</td>\n",
       "      <td>Yes</td>\n",
       "      <td>No</td>\n",
       "      <td>Two year</td>\n",
       "      <td>0</td>\n",
       "      <td>Mailed check</td>\n",
       "      <td>73.35</td>\n",
       "      <td></td>\n",
       "      <td>0</td>\n",
       "    </tr>\n",
       "    <tr>\n",
       "      <th>6754</th>\n",
       "      <td>0</td>\n",
       "      <td>0</td>\n",
       "      <td>0</td>\n",
       "      <td>1</td>\n",
       "      <td>0</td>\n",
       "      <td>1</td>\n",
       "      <td>Yes</td>\n",
       "      <td>DSL</td>\n",
       "      <td>Yes</td>\n",
       "      <td>Yes</td>\n",
       "      <td>No</td>\n",
       "      <td>Yes</td>\n",
       "      <td>No</td>\n",
       "      <td>No</td>\n",
       "      <td>Two year</td>\n",
       "      <td>1</td>\n",
       "      <td>Bank transfer (automatic)</td>\n",
       "      <td>61.90</td>\n",
       "      <td></td>\n",
       "      <td>0</td>\n",
       "    </tr>\n",
       "  </tbody>\n",
       "</table>\n",
       "</div>"
      ],
      "text/plain": [
       "      is_female  SeniorCitizen  Partner  Dependents  tenure/month  \\\n",
       "488           1              0        1           1             0   \n",
       "753           0              0        0           1             0   \n",
       "936           1              0        1           1             0   \n",
       "1082          0              0        1           1             0   \n",
       "1340          1              0        1           1             0   \n",
       "3331          0              0        1           1             0   \n",
       "3826          0              0        1           1             0   \n",
       "4380          1              0        1           1             0   \n",
       "5218          0              0        1           1             0   \n",
       "6670          1              0        1           1             0   \n",
       "6754          0              0        0           1             0   \n",
       "\n",
       "      PhoneService     MultipleLines InternetService       OnlineSecurity  \\\n",
       "488              0  No phone service             DSL                  Yes   \n",
       "753              1                No              No  No internet service   \n",
       "936              1                No             DSL                  Yes   \n",
       "1082             1               Yes              No  No internet service   \n",
       "1340             0  No phone service             DSL                  Yes   \n",
       "3331             1                No              No  No internet service   \n",
       "3826             1               Yes              No  No internet service   \n",
       "4380             1                No              No  No internet service   \n",
       "5218             1                No              No  No internet service   \n",
       "6670             1               Yes             DSL                   No   \n",
       "6754             1               Yes             DSL                  Yes   \n",
       "\n",
       "             OnlineBackup     DeviceProtection          TechSupport  \\\n",
       "488                    No                  Yes                  Yes   \n",
       "753   No internet service  No internet service  No internet service   \n",
       "936                   Yes                  Yes                   No   \n",
       "1082  No internet service  No internet service  No internet service   \n",
       "1340                  Yes                  Yes                  Yes   \n",
       "3331  No internet service  No internet service  No internet service   \n",
       "3826  No internet service  No internet service  No internet service   \n",
       "4380  No internet service  No internet service  No internet service   \n",
       "5218  No internet service  No internet service  No internet service   \n",
       "6670                  Yes                  Yes                  Yes   \n",
       "6754                  Yes                   No                  Yes   \n",
       "\n",
       "              StreamingTV      StreamingMovies  Contract  PaperlessBilling  \\\n",
       "488                   Yes                   No  Two year                 1   \n",
       "753   No internet service  No internet service  Two year                 0   \n",
       "936                   Yes                  Yes  Two year                 0   \n",
       "1082  No internet service  No internet service  Two year                 0   \n",
       "1340                  Yes                   No  Two year                 0   \n",
       "3331  No internet service  No internet service  Two year                 0   \n",
       "3826  No internet service  No internet service  Two year                 0   \n",
       "4380  No internet service  No internet service  Two year                 0   \n",
       "5218  No internet service  No internet service  One year                 1   \n",
       "6670                  Yes                   No  Two year                 0   \n",
       "6754                   No                   No  Two year                 1   \n",
       "\n",
       "                  PaymentMethod  MonthlyCharges TotalCharges  Churn  \n",
       "488   Bank transfer (automatic)           52.55                   0  \n",
       "753                Mailed check           20.25                   0  \n",
       "936                Mailed check           80.85                   0  \n",
       "1082               Mailed check           25.75                   0  \n",
       "1340    Credit card (automatic)           56.05                   0  \n",
       "3331               Mailed check           19.85                   0  \n",
       "3826               Mailed check           25.35                   0  \n",
       "4380               Mailed check           20.00                   0  \n",
       "5218               Mailed check           19.70                   0  \n",
       "6670               Mailed check           73.35                   0  \n",
       "6754  Bank transfer (automatic)           61.90                   0  "
      ]
     },
     "execution_count": 20,
     "metadata": {},
     "output_type": "execute_result"
    }
   ],
   "source": [
    "data[data['TotalCharges'] == ' ']"
   ]
  },
  {
   "cell_type": "markdown",
   "id": "899d1d5a",
   "metadata": {},
   "source": [
    "Notice that none of these customers have churned. As churn is measured across a period of time, it is *plausible* that the time window of this data is less than one month since these customers have joined, so these customers have not been charged yet despite there being a valid value in `MonthlyCharges`.\n",
    "\n",
    "**N.B.** This is just speculation.\n",
    "\n",
    "We will replace `TotalCharges` with floats, where ` ` is $0$ as these customers have not yet been charged (this is an assumption)."
   ]
  },
  {
   "cell_type": "code",
   "execution_count": 21,
   "id": "e50941cd",
   "metadata": {},
   "outputs": [],
   "source": [
    "new_total_charges = []\n",
    "for item in data['TotalCharges']:\n",
    "    if item == ' ':\n",
    "        item2 = 0\n",
    "    else:\n",
    "        item2 = float(item)\n",
    "    new_total_charges.append(item2)"
   ]
  },
  {
   "cell_type": "code",
   "execution_count": 22,
   "id": "dba282cb",
   "metadata": {},
   "outputs": [],
   "source": [
    "data['TotalCharges'] = new_total_charges"
   ]
  },
  {
   "cell_type": "markdown",
   "id": "637ecbee",
   "metadata": {},
   "source": [
    "We now check the type of the column - everything should be a float."
   ]
  },
  {
   "cell_type": "code",
   "execution_count": 23,
   "id": "bbedb9cd",
   "metadata": {},
   "outputs": [
    {
     "data": {
      "text/plain": [
       "Counter({float: 7043})"
      ]
     },
     "execution_count": 23,
     "metadata": {},
     "output_type": "execute_result"
    }
   ],
   "source": [
    "Counter([type(item) for item in data['TotalCharges']])"
   ]
  },
  {
   "cell_type": "markdown",
   "id": "679fe368",
   "metadata": {},
   "source": [
    "We now return to the other features.\n",
    "\n",
    "Notice that `MultipleLines`, specifically its value `No`, is correlated with `PhoneService`:"
   ]
  },
  {
   "cell_type": "code",
   "execution_count": 24,
   "id": "62e9fd75",
   "metadata": {},
   "outputs": [
    {
     "data": {
      "text/plain": [
       "Counter({(0, 'No phone service'): 682, (1, 'No'): 3390, (1, 'Yes'): 2971})"
      ]
     },
     "execution_count": 24,
     "metadata": {},
     "output_type": "execute_result"
    }
   ],
   "source": [
    "Counter(zip(data['PhoneService'], data['MultipleLines']))"
   ]
  },
  {
   "cell_type": "markdown",
   "id": "03136010",
   "metadata": {},
   "source": [
    "We know if `PhoneService` is $0$, `MultipleLines` is also $0$. However, if `PhoneService` is $1$, then `MultipleLines` can either be $0$ or $1$. We replace all `Yes` with $1$ and other values with $0$ via the below helper function:"
   ]
  },
  {
   "cell_type": "code",
   "execution_count": 25,
   "id": "d29708ff",
   "metadata": {},
   "outputs": [],
   "source": [
    "def change_column_value_into_one_and_rest_zero(mydf, col_name, pos):\n",
    "    \"\"\"\n",
    "    Input a dataframe, column name string (present)\n",
    "    and positive value string\n",
    "    Output same dataframe (does not mutate input)\n",
    "    with positive values replaced with 1 and ALL OTHER VALUES\n",
    "    replaced with 0\n",
    "    \"\"\"\n",
    "    answer = mydf.copy()\n",
    "    mycol = answer[col_name]\n",
    "    value_counts = Counter(mycol)\n",
    "    for value in value_counts.keys():\n",
    "        if value == pos:\n",
    "            mycol = mycol.replace(value, 1)\n",
    "        else:\n",
    "            mycol = mycol.replace(value, 0)\n",
    "    answer[col_name] = mycol\n",
    "    return answer"
   ]
  },
  {
   "cell_type": "code",
   "execution_count": 26,
   "id": "514b6684",
   "metadata": {},
   "outputs": [],
   "source": [
    "data = change_column_value_into_one_and_rest_zero(data, 'MultipleLines', 'Yes')"
   ]
  },
  {
   "cell_type": "markdown",
   "id": "67650932",
   "metadata": {},
   "source": [
    "The counts are the same, so this replacement is correct:"
   ]
  },
  {
   "cell_type": "code",
   "execution_count": 27,
   "id": "d5e63c33",
   "metadata": {},
   "outputs": [
    {
     "data": {
      "text/plain": [
       "Counter({(0, 0): 682, (1, 0): 3390, (1, 1): 2971})"
      ]
     },
     "execution_count": 27,
     "metadata": {},
     "output_type": "execute_result"
    }
   ],
   "source": [
    "Counter(zip(data['PhoneService'], data['MultipleLines']))"
   ]
  },
  {
   "cell_type": "markdown",
   "id": "713abb69",
   "metadata": {},
   "source": [
    "We now group together all internet service features:"
   ]
  },
  {
   "cell_type": "code",
   "execution_count": 28,
   "id": "7fb56567",
   "metadata": {},
   "outputs": [],
   "source": [
    "internet_service_features = ['OnlineSecurity',\n",
    " 'OnlineBackup',\n",
    " 'DeviceProtection',\n",
    " 'TechSupport',\n",
    " 'StreamingTV',\n",
    " 'StreamingMovies']"
   ]
  },
  {
   "cell_type": "markdown",
   "id": "69675845",
   "metadata": {},
   "source": [
    "We count which values of these service features match with with `InternetService`."
   ]
  },
  {
   "cell_type": "code",
   "execution_count": 29,
   "id": "534acd55",
   "metadata": {},
   "outputs": [
    {
     "name": "stdout",
     "output_type": "stream",
     "text": [
      "OnlineSecurity\n",
      "('DSL', 'No') 1241\n",
      "('DSL', 'Yes') 1180\n",
      "('Fiber optic', 'No') 2257\n",
      "('No', 'No internet service') 1526\n",
      "('Fiber optic', 'Yes') 839\n",
      "\n",
      "OnlineBackup\n",
      "('DSL', 'Yes') 1086\n",
      "('DSL', 'No') 1335\n",
      "('Fiber optic', 'No') 1753\n",
      "('Fiber optic', 'Yes') 1343\n",
      "('No', 'No internet service') 1526\n",
      "\n",
      "DeviceProtection\n",
      "('DSL', 'No') 1356\n",
      "('DSL', 'Yes') 1065\n",
      "('Fiber optic', 'No') 1739\n",
      "('Fiber optic', 'Yes') 1357\n",
      "('No', 'No internet service') 1526\n",
      "\n",
      "TechSupport\n",
      "('DSL', 'No') 1243\n",
      "('DSL', 'Yes') 1178\n",
      "('Fiber optic', 'No') 2230\n",
      "('Fiber optic', 'Yes') 866\n",
      "('No', 'No internet service') 1526\n",
      "\n",
      "StreamingTV\n",
      "('DSL', 'No') 1464\n",
      "('Fiber optic', 'No') 1346\n",
      "('Fiber optic', 'Yes') 1750\n",
      "('No', 'No internet service') 1526\n",
      "('DSL', 'Yes') 957\n",
      "\n",
      "StreamingMovies\n",
      "('DSL', 'No') 1440\n",
      "('Fiber optic', 'No') 1345\n",
      "('Fiber optic', 'Yes') 1751\n",
      "('No', 'No internet service') 1526\n",
      "('DSL', 'Yes') 981\n",
      "\n"
     ]
    }
   ],
   "source": [
    "for feature in internet_service_features:\n",
    "    print(feature)\n",
    "    calculation = Counter(zip(data['InternetService'], data[feature]))\n",
    "    for key, value in calculation.items():\n",
    "        print(key, value)\n",
    "    print()"
   ]
  },
  {
   "cell_type": "markdown",
   "id": "ebd803e7",
   "metadata": {},
   "source": [
    "By inspection, if the customer has no internet service, then these features say there is no internet service. Therefore, we replace `Yes` with $1$ for all of these features, and `No` with $0$."
   ]
  },
  {
   "cell_type": "code",
   "execution_count": 30,
   "id": "e011f00f",
   "metadata": {},
   "outputs": [],
   "source": [
    "for feature in internet_service_features:\n",
    "    data = change_column_value_into_one_and_rest_zero(data, feature, 'Yes')"
   ]
  },
  {
   "cell_type": "markdown",
   "id": "66ef55b0",
   "metadata": {},
   "source": [
    "We check the counts:"
   ]
  },
  {
   "cell_type": "code",
   "execution_count": 31,
   "id": "9571a8bf",
   "metadata": {
    "scrolled": false
   },
   "outputs": [
    {
     "name": "stdout",
     "output_type": "stream",
     "text": [
      "OnlineSecurity\n",
      "('DSL', 0) 1241\n",
      "('DSL', 1) 1180\n",
      "('Fiber optic', 0) 2257\n",
      "('No', 0) 1526\n",
      "('Fiber optic', 1) 839\n",
      "\n",
      "OnlineBackup\n",
      "('DSL', 1) 1086\n",
      "('DSL', 0) 1335\n",
      "('Fiber optic', 0) 1753\n",
      "('Fiber optic', 1) 1343\n",
      "('No', 0) 1526\n",
      "\n",
      "DeviceProtection\n",
      "('DSL', 0) 1356\n",
      "('DSL', 1) 1065\n",
      "('Fiber optic', 0) 1739\n",
      "('Fiber optic', 1) 1357\n",
      "('No', 0) 1526\n",
      "\n",
      "TechSupport\n",
      "('DSL', 0) 1243\n",
      "('DSL', 1) 1178\n",
      "('Fiber optic', 0) 2230\n",
      "('Fiber optic', 1) 866\n",
      "('No', 0) 1526\n",
      "\n",
      "StreamingTV\n",
      "('DSL', 0) 1464\n",
      "('Fiber optic', 0) 1346\n",
      "('Fiber optic', 1) 1750\n",
      "('No', 0) 1526\n",
      "('DSL', 1) 957\n",
      "\n",
      "StreamingMovies\n",
      "('DSL', 0) 1440\n",
      "('Fiber optic', 0) 1345\n",
      "('Fiber optic', 1) 1751\n",
      "('No', 0) 1526\n",
      "('DSL', 1) 981\n",
      "\n"
     ]
    }
   ],
   "source": [
    "for feature in internet_service_features:\n",
    "    print(feature)\n",
    "    calculation = Counter(zip(data['InternetService'], data[feature]))\n",
    "    for key, value in calculation.items():\n",
    "        print(key, value)\n",
    "    print()"
   ]
  },
  {
   "cell_type": "markdown",
   "id": "69a4baf6",
   "metadata": {},
   "source": [
    "This is fine as the counts match. We now change `InternetService` into the following representation:\n",
    "\n",
    "  1. `internet_service_is_DSL` as a Boolean variable.\n",
    "  \n",
    "  2. `internet_service_is_fiber_optic` as a Boolean variable.\n",
    "  \n",
    "If both of these values are zero, then this means `No`."
   ]
  },
  {
   "cell_type": "code",
   "execution_count": 32,
   "id": "1b69588d",
   "metadata": {},
   "outputs": [
    {
     "data": {
      "text/plain": [
       "Counter({'DSL': 2421, 'Fiber optic': 3096, 'No': 1526})"
      ]
     },
     "execution_count": 32,
     "metadata": {},
     "output_type": "execute_result"
    }
   ],
   "source": [
    "Counter(data['InternetService'])"
   ]
  },
  {
   "cell_type": "code",
   "execution_count": 33,
   "id": "e6ed869b",
   "metadata": {},
   "outputs": [],
   "source": [
    "internet_service_is_dsl = change_column_value_into_one_and_rest_zero(data, 'InternetService', 'DSL')['InternetService']\n",
    "internet_service_is_fiber_optic = change_column_value_into_one_and_rest_zero(data, 'InternetService', 'Fiber optic')['InternetService']"
   ]
  },
  {
   "cell_type": "markdown",
   "id": "f1e2165e",
   "metadata": {},
   "source": [
    "We replace `InternetService` with both of these columns by deleting `InternetService` and inserting those columns at the same position."
   ]
  },
  {
   "cell_type": "code",
   "execution_count": 34,
   "id": "0a9ee8a0",
   "metadata": {},
   "outputs": [
    {
     "data": {
      "text/plain": [
       "7"
      ]
     },
     "execution_count": 34,
     "metadata": {},
     "output_type": "execute_result"
    }
   ],
   "source": [
    "list(data).index('InternetService')"
   ]
  },
  {
   "cell_type": "code",
   "execution_count": 35,
   "id": "cf1351ad",
   "metadata": {},
   "outputs": [],
   "source": [
    "data = data.drop(columns = 'InternetService')\n",
    "data.insert(7, 'internet_service_is_fiber_optic', internet_service_is_fiber_optic)\n",
    "data.insert(7, 'internet_service_is_dsl', internet_service_is_dsl)"
   ]
  },
  {
   "cell_type": "markdown",
   "id": "61362759",
   "metadata": {},
   "source": [
    "Notice the counts are the same as above, so we preserve the same information."
   ]
  },
  {
   "cell_type": "code",
   "execution_count": 36,
   "id": "0aefb13c",
   "metadata": {},
   "outputs": [
    {
     "data": {
      "text/plain": [
       "Counter({(1, 0): 2421, (0, 1): 3096, (0, 0): 1526})"
      ]
     },
     "execution_count": 36,
     "metadata": {},
     "output_type": "execute_result"
    }
   ],
   "source": [
    "Counter(zip(data['internet_service_is_dsl'], data['internet_service_is_fiber_optic']))"
   ]
  },
  {
   "cell_type": "markdown",
   "id": "6e8622d6",
   "metadata": {},
   "source": [
    "We look at `Contract`"
   ]
  },
  {
   "cell_type": "code",
   "execution_count": 37,
   "id": "3376ab77",
   "metadata": {},
   "outputs": [
    {
     "data": {
      "text/plain": [
       "Counter({'Month-to-month': 3875, 'One year': 1473, 'Two year': 1695})"
      ]
     },
     "execution_count": 37,
     "metadata": {},
     "output_type": "execute_result"
    }
   ],
   "source": [
    "Counter(data['Contract'])"
   ]
  },
  {
   "cell_type": "markdown",
   "id": "1e19ba28",
   "metadata": {},
   "source": [
    "This is a categorical variable, which we change into a one-hot representation with the following helper functions:"
   ]
  },
  {
   "cell_type": "code",
   "execution_count": 38,
   "id": "933d4973",
   "metadata": {},
   "outputs": [],
   "source": [
    "def change_categorical_column_to_one_hot_dataframe(mydf, column):\n",
    "    \"\"\"\n",
    "    Input dataframe and column string that is a categorical variable\n",
    "    Output dataframe of one-hot representation of that column\n",
    "    \"\"\"\n",
    "    mycol = mydf[column]\n",
    "    values_counts = Counter(mycol)\n",
    "    answer = {}\n",
    "    for value in values_counts.keys():\n",
    "        value2 = value.replace(' ', '_').lower()\n",
    "        column_as_value = column + \"_is_\" + value2\n",
    "        new_column = change_column_value_into_one_and_rest_zero(mydf, column, value)[column]\n",
    "        answer[column_as_value] = new_column\n",
    "    return pd.DataFrame(answer)"
   ]
  },
  {
   "cell_type": "code",
   "execution_count": 39,
   "id": "5aac72e1",
   "metadata": {},
   "outputs": [],
   "source": [
    "def change_categorical_column_to_one_hot_dataframe_incorporated(mydf, column):\n",
    "    \"\"\"\n",
    "    Repeat the preceding function\n",
    "    But keep other columns intact\n",
    "    \"\"\"\n",
    "    column_position = list(mydf).index(column)\n",
    "    left_df = mydf[list(mydf)[:column_position]]\n",
    "    middle = change_categorical_column_to_one_hot_dataframe(mydf, column)\n",
    "    right_df = mydf[list(mydf)[column_position + 1:]]\n",
    "    answer = pd.concat([left_df, middle, right_df], axis = 1)\n",
    "    return answer"
   ]
  },
  {
   "cell_type": "markdown",
   "id": "a33aa194",
   "metadata": {},
   "source": [
    "We change the dataframe `Contract` accordingly:"
   ]
  },
  {
   "cell_type": "code",
   "execution_count": 40,
   "id": "ffd542bc",
   "metadata": {},
   "outputs": [],
   "source": [
    "data = change_categorical_column_to_one_hot_dataframe_incorporated(data, 'Contract')"
   ]
  },
  {
   "cell_type": "markdown",
   "id": "917b0992",
   "metadata": {},
   "source": [
    "We do the same to `PaymentMethod`:"
   ]
  },
  {
   "cell_type": "code",
   "execution_count": 41,
   "id": "98efb991",
   "metadata": {},
   "outputs": [
    {
     "data": {
      "text/plain": [
       "Counter({'Electronic check': 2365,\n",
       "         'Mailed check': 1612,\n",
       "         'Bank transfer (automatic)': 1544,\n",
       "         'Credit card (automatic)': 1522})"
      ]
     },
     "execution_count": 41,
     "metadata": {},
     "output_type": "execute_result"
    }
   ],
   "source": [
    "Counter(data['PaymentMethod'])"
   ]
  },
  {
   "cell_type": "markdown",
   "id": "b72b09a3",
   "metadata": {},
   "source": [
    "We get rid of `(automatic)` in the values."
   ]
  },
  {
   "cell_type": "code",
   "execution_count": 42,
   "id": "07c6bed6",
   "metadata": {},
   "outputs": [],
   "source": [
    "data = data.replace('Bank transfer (automatic)', 'Bank transfer')\n",
    "data = data.replace('Credit card (automatic)', 'Credit card')"
   ]
  },
  {
   "cell_type": "markdown",
   "id": "ad285723",
   "metadata": {},
   "source": [
    "The counts are the same."
   ]
  },
  {
   "cell_type": "code",
   "execution_count": 43,
   "id": "004b6f83",
   "metadata": {},
   "outputs": [
    {
     "data": {
      "text/plain": [
       "Counter({'Electronic check': 2365,\n",
       "         'Mailed check': 1612,\n",
       "         'Bank transfer': 1544,\n",
       "         'Credit card': 1522})"
      ]
     },
     "execution_count": 43,
     "metadata": {},
     "output_type": "execute_result"
    }
   ],
   "source": [
    "Counter(data['PaymentMethod'])"
   ]
  },
  {
   "cell_type": "markdown",
   "id": "064d70b8",
   "metadata": {},
   "source": [
    "We put the new categorical columns back into the data:"
   ]
  },
  {
   "cell_type": "code",
   "execution_count": 44,
   "id": "c7d040d8",
   "metadata": {},
   "outputs": [],
   "source": [
    "data = change_categorical_column_to_one_hot_dataframe_incorporated(data, 'PaymentMethod')"
   ]
  },
  {
   "cell_type": "code",
   "execution_count": 45,
   "id": "1de3b945",
   "metadata": {},
   "outputs": [
    {
     "data": {
      "text/html": [
       "<div>\n",
       "<style scoped>\n",
       "    .dataframe tbody tr th:only-of-type {\n",
       "        vertical-align: middle;\n",
       "    }\n",
       "\n",
       "    .dataframe tbody tr th {\n",
       "        vertical-align: top;\n",
       "    }\n",
       "\n",
       "    .dataframe thead th {\n",
       "        text-align: right;\n",
       "    }\n",
       "</style>\n",
       "<table border=\"1\" class=\"dataframe\">\n",
       "  <thead>\n",
       "    <tr style=\"text-align: right;\">\n",
       "      <th></th>\n",
       "      <th>is_female</th>\n",
       "      <th>SeniorCitizen</th>\n",
       "      <th>Partner</th>\n",
       "      <th>Dependents</th>\n",
       "      <th>tenure/month</th>\n",
       "      <th>PhoneService</th>\n",
       "      <th>MultipleLines</th>\n",
       "      <th>internet_service_is_dsl</th>\n",
       "      <th>internet_service_is_fiber_optic</th>\n",
       "      <th>OnlineSecurity</th>\n",
       "      <th>...</th>\n",
       "      <th>Contract_is_one_year</th>\n",
       "      <th>Contract_is_two_year</th>\n",
       "      <th>PaperlessBilling</th>\n",
       "      <th>PaymentMethod_is_electronic_check</th>\n",
       "      <th>PaymentMethod_is_mailed_check</th>\n",
       "      <th>PaymentMethod_is_bank_transfer</th>\n",
       "      <th>PaymentMethod_is_credit_card</th>\n",
       "      <th>MonthlyCharges</th>\n",
       "      <th>TotalCharges</th>\n",
       "      <th>Churn</th>\n",
       "    </tr>\n",
       "  </thead>\n",
       "  <tbody>\n",
       "    <tr>\n",
       "      <th>0</th>\n",
       "      <td>1</td>\n",
       "      <td>0</td>\n",
       "      <td>1</td>\n",
       "      <td>0</td>\n",
       "      <td>1</td>\n",
       "      <td>0</td>\n",
       "      <td>0</td>\n",
       "      <td>1</td>\n",
       "      <td>0</td>\n",
       "      <td>0</td>\n",
       "      <td>...</td>\n",
       "      <td>0</td>\n",
       "      <td>0</td>\n",
       "      <td>1</td>\n",
       "      <td>1</td>\n",
       "      <td>0</td>\n",
       "      <td>0</td>\n",
       "      <td>0</td>\n",
       "      <td>29.85</td>\n",
       "      <td>29.85</td>\n",
       "      <td>0</td>\n",
       "    </tr>\n",
       "    <tr>\n",
       "      <th>1</th>\n",
       "      <td>0</td>\n",
       "      <td>0</td>\n",
       "      <td>0</td>\n",
       "      <td>0</td>\n",
       "      <td>34</td>\n",
       "      <td>1</td>\n",
       "      <td>0</td>\n",
       "      <td>1</td>\n",
       "      <td>0</td>\n",
       "      <td>1</td>\n",
       "      <td>...</td>\n",
       "      <td>1</td>\n",
       "      <td>0</td>\n",
       "      <td>0</td>\n",
       "      <td>0</td>\n",
       "      <td>1</td>\n",
       "      <td>0</td>\n",
       "      <td>0</td>\n",
       "      <td>56.95</td>\n",
       "      <td>1889.50</td>\n",
       "      <td>0</td>\n",
       "    </tr>\n",
       "    <tr>\n",
       "      <th>2</th>\n",
       "      <td>0</td>\n",
       "      <td>0</td>\n",
       "      <td>0</td>\n",
       "      <td>0</td>\n",
       "      <td>2</td>\n",
       "      <td>1</td>\n",
       "      <td>0</td>\n",
       "      <td>1</td>\n",
       "      <td>0</td>\n",
       "      <td>1</td>\n",
       "      <td>...</td>\n",
       "      <td>0</td>\n",
       "      <td>0</td>\n",
       "      <td>1</td>\n",
       "      <td>0</td>\n",
       "      <td>1</td>\n",
       "      <td>0</td>\n",
       "      <td>0</td>\n",
       "      <td>53.85</td>\n",
       "      <td>108.15</td>\n",
       "      <td>1</td>\n",
       "    </tr>\n",
       "    <tr>\n",
       "      <th>3</th>\n",
       "      <td>0</td>\n",
       "      <td>0</td>\n",
       "      <td>0</td>\n",
       "      <td>0</td>\n",
       "      <td>45</td>\n",
       "      <td>0</td>\n",
       "      <td>0</td>\n",
       "      <td>1</td>\n",
       "      <td>0</td>\n",
       "      <td>1</td>\n",
       "      <td>...</td>\n",
       "      <td>1</td>\n",
       "      <td>0</td>\n",
       "      <td>0</td>\n",
       "      <td>0</td>\n",
       "      <td>0</td>\n",
       "      <td>1</td>\n",
       "      <td>0</td>\n",
       "      <td>42.30</td>\n",
       "      <td>1840.75</td>\n",
       "      <td>0</td>\n",
       "    </tr>\n",
       "    <tr>\n",
       "      <th>4</th>\n",
       "      <td>1</td>\n",
       "      <td>0</td>\n",
       "      <td>0</td>\n",
       "      <td>0</td>\n",
       "      <td>2</td>\n",
       "      <td>1</td>\n",
       "      <td>0</td>\n",
       "      <td>0</td>\n",
       "      <td>1</td>\n",
       "      <td>0</td>\n",
       "      <td>...</td>\n",
       "      <td>0</td>\n",
       "      <td>0</td>\n",
       "      <td>1</td>\n",
       "      <td>1</td>\n",
       "      <td>0</td>\n",
       "      <td>0</td>\n",
       "      <td>0</td>\n",
       "      <td>70.70</td>\n",
       "      <td>151.65</td>\n",
       "      <td>1</td>\n",
       "    </tr>\n",
       "    <tr>\n",
       "      <th>...</th>\n",
       "      <td>...</td>\n",
       "      <td>...</td>\n",
       "      <td>...</td>\n",
       "      <td>...</td>\n",
       "      <td>...</td>\n",
       "      <td>...</td>\n",
       "      <td>...</td>\n",
       "      <td>...</td>\n",
       "      <td>...</td>\n",
       "      <td>...</td>\n",
       "      <td>...</td>\n",
       "      <td>...</td>\n",
       "      <td>...</td>\n",
       "      <td>...</td>\n",
       "      <td>...</td>\n",
       "      <td>...</td>\n",
       "      <td>...</td>\n",
       "      <td>...</td>\n",
       "      <td>...</td>\n",
       "      <td>...</td>\n",
       "      <td>...</td>\n",
       "    </tr>\n",
       "    <tr>\n",
       "      <th>7038</th>\n",
       "      <td>0</td>\n",
       "      <td>0</td>\n",
       "      <td>1</td>\n",
       "      <td>1</td>\n",
       "      <td>24</td>\n",
       "      <td>1</td>\n",
       "      <td>1</td>\n",
       "      <td>1</td>\n",
       "      <td>0</td>\n",
       "      <td>1</td>\n",
       "      <td>...</td>\n",
       "      <td>1</td>\n",
       "      <td>0</td>\n",
       "      <td>1</td>\n",
       "      <td>0</td>\n",
       "      <td>1</td>\n",
       "      <td>0</td>\n",
       "      <td>0</td>\n",
       "      <td>84.80</td>\n",
       "      <td>1990.50</td>\n",
       "      <td>0</td>\n",
       "    </tr>\n",
       "    <tr>\n",
       "      <th>7039</th>\n",
       "      <td>1</td>\n",
       "      <td>0</td>\n",
       "      <td>1</td>\n",
       "      <td>1</td>\n",
       "      <td>72</td>\n",
       "      <td>1</td>\n",
       "      <td>1</td>\n",
       "      <td>0</td>\n",
       "      <td>1</td>\n",
       "      <td>0</td>\n",
       "      <td>...</td>\n",
       "      <td>1</td>\n",
       "      <td>0</td>\n",
       "      <td>1</td>\n",
       "      <td>0</td>\n",
       "      <td>0</td>\n",
       "      <td>0</td>\n",
       "      <td>1</td>\n",
       "      <td>103.20</td>\n",
       "      <td>7362.90</td>\n",
       "      <td>0</td>\n",
       "    </tr>\n",
       "    <tr>\n",
       "      <th>7040</th>\n",
       "      <td>1</td>\n",
       "      <td>0</td>\n",
       "      <td>1</td>\n",
       "      <td>1</td>\n",
       "      <td>11</td>\n",
       "      <td>0</td>\n",
       "      <td>0</td>\n",
       "      <td>1</td>\n",
       "      <td>0</td>\n",
       "      <td>1</td>\n",
       "      <td>...</td>\n",
       "      <td>0</td>\n",
       "      <td>0</td>\n",
       "      <td>1</td>\n",
       "      <td>1</td>\n",
       "      <td>0</td>\n",
       "      <td>0</td>\n",
       "      <td>0</td>\n",
       "      <td>29.60</td>\n",
       "      <td>346.45</td>\n",
       "      <td>0</td>\n",
       "    </tr>\n",
       "    <tr>\n",
       "      <th>7041</th>\n",
       "      <td>0</td>\n",
       "      <td>1</td>\n",
       "      <td>1</td>\n",
       "      <td>0</td>\n",
       "      <td>4</td>\n",
       "      <td>1</td>\n",
       "      <td>1</td>\n",
       "      <td>0</td>\n",
       "      <td>1</td>\n",
       "      <td>0</td>\n",
       "      <td>...</td>\n",
       "      <td>0</td>\n",
       "      <td>0</td>\n",
       "      <td>1</td>\n",
       "      <td>0</td>\n",
       "      <td>1</td>\n",
       "      <td>0</td>\n",
       "      <td>0</td>\n",
       "      <td>74.40</td>\n",
       "      <td>306.60</td>\n",
       "      <td>1</td>\n",
       "    </tr>\n",
       "    <tr>\n",
       "      <th>7042</th>\n",
       "      <td>0</td>\n",
       "      <td>0</td>\n",
       "      <td>0</td>\n",
       "      <td>0</td>\n",
       "      <td>66</td>\n",
       "      <td>1</td>\n",
       "      <td>0</td>\n",
       "      <td>0</td>\n",
       "      <td>1</td>\n",
       "      <td>1</td>\n",
       "      <td>...</td>\n",
       "      <td>0</td>\n",
       "      <td>1</td>\n",
       "      <td>1</td>\n",
       "      <td>0</td>\n",
       "      <td>0</td>\n",
       "      <td>1</td>\n",
       "      <td>0</td>\n",
       "      <td>105.65</td>\n",
       "      <td>6844.50</td>\n",
       "      <td>0</td>\n",
       "    </tr>\n",
       "  </tbody>\n",
       "</table>\n",
       "<p>7043 rows × 26 columns</p>\n",
       "</div>"
      ],
      "text/plain": [
       "      is_female  SeniorCitizen  Partner  Dependents  tenure/month  \\\n",
       "0             1              0        1           0             1   \n",
       "1             0              0        0           0            34   \n",
       "2             0              0        0           0             2   \n",
       "3             0              0        0           0            45   \n",
       "4             1              0        0           0             2   \n",
       "...         ...            ...      ...         ...           ...   \n",
       "7038          0              0        1           1            24   \n",
       "7039          1              0        1           1            72   \n",
       "7040          1              0        1           1            11   \n",
       "7041          0              1        1           0             4   \n",
       "7042          0              0        0           0            66   \n",
       "\n",
       "      PhoneService  MultipleLines  internet_service_is_dsl  \\\n",
       "0                0              0                        1   \n",
       "1                1              0                        1   \n",
       "2                1              0                        1   \n",
       "3                0              0                        1   \n",
       "4                1              0                        0   \n",
       "...            ...            ...                      ...   \n",
       "7038             1              1                        1   \n",
       "7039             1              1                        0   \n",
       "7040             0              0                        1   \n",
       "7041             1              1                        0   \n",
       "7042             1              0                        0   \n",
       "\n",
       "      internet_service_is_fiber_optic  OnlineSecurity  ...  \\\n",
       "0                                   0               0  ...   \n",
       "1                                   0               1  ...   \n",
       "2                                   0               1  ...   \n",
       "3                                   0               1  ...   \n",
       "4                                   1               0  ...   \n",
       "...                               ...             ...  ...   \n",
       "7038                                0               1  ...   \n",
       "7039                                1               0  ...   \n",
       "7040                                0               1  ...   \n",
       "7041                                1               0  ...   \n",
       "7042                                1               1  ...   \n",
       "\n",
       "      Contract_is_one_year  Contract_is_two_year  PaperlessBilling  \\\n",
       "0                        0                     0                 1   \n",
       "1                        1                     0                 0   \n",
       "2                        0                     0                 1   \n",
       "3                        1                     0                 0   \n",
       "4                        0                     0                 1   \n",
       "...                    ...                   ...               ...   \n",
       "7038                     1                     0                 1   \n",
       "7039                     1                     0                 1   \n",
       "7040                     0                     0                 1   \n",
       "7041                     0                     0                 1   \n",
       "7042                     0                     1                 1   \n",
       "\n",
       "      PaymentMethod_is_electronic_check  PaymentMethod_is_mailed_check  \\\n",
       "0                                     1                              0   \n",
       "1                                     0                              1   \n",
       "2                                     0                              1   \n",
       "3                                     0                              0   \n",
       "4                                     1                              0   \n",
       "...                                 ...                            ...   \n",
       "7038                                  0                              1   \n",
       "7039                                  0                              0   \n",
       "7040                                  1                              0   \n",
       "7041                                  0                              1   \n",
       "7042                                  0                              0   \n",
       "\n",
       "      PaymentMethod_is_bank_transfer  PaymentMethod_is_credit_card  \\\n",
       "0                                  0                             0   \n",
       "1                                  0                             0   \n",
       "2                                  0                             0   \n",
       "3                                  1                             0   \n",
       "4                                  0                             0   \n",
       "...                              ...                           ...   \n",
       "7038                               0                             0   \n",
       "7039                               0                             1   \n",
       "7040                               0                             0   \n",
       "7041                               0                             0   \n",
       "7042                               1                             0   \n",
       "\n",
       "      MonthlyCharges  TotalCharges  Churn  \n",
       "0              29.85         29.85      0  \n",
       "1              56.95       1889.50      0  \n",
       "2              53.85        108.15      1  \n",
       "3              42.30       1840.75      0  \n",
       "4              70.70        151.65      1  \n",
       "...              ...           ...    ...  \n",
       "7038           84.80       1990.50      0  \n",
       "7039          103.20       7362.90      0  \n",
       "7040           29.60        346.45      0  \n",
       "7041           74.40        306.60      1  \n",
       "7042          105.65       6844.50      0  \n",
       "\n",
       "[7043 rows x 26 columns]"
      ]
     },
     "execution_count": 45,
     "metadata": {},
     "output_type": "execute_result"
    }
   ],
   "source": [
    "data"
   ]
  },
  {
   "cell_type": "markdown",
   "id": "1c0405ca",
   "metadata": {},
   "source": [
    "This cleans the data, where all values are appropriately represented by numbers. We do a final check with the data types:"
   ]
  },
  {
   "cell_type": "code",
   "execution_count": 46,
   "id": "ca6384d7",
   "metadata": {},
   "outputs": [
    {
     "name": "stdout",
     "output_type": "stream",
     "text": [
      "<class 'pandas.core.frame.DataFrame'>\n",
      "RangeIndex: 7043 entries, 0 to 7042\n",
      "Data columns (total 26 columns):\n",
      " #   Column                             Non-Null Count  Dtype  \n",
      "---  ------                             --------------  -----  \n",
      " 0   is_female                          7043 non-null   int64  \n",
      " 1   SeniorCitizen                      7043 non-null   int64  \n",
      " 2   Partner                            7043 non-null   int64  \n",
      " 3   Dependents                         7043 non-null   int64  \n",
      " 4   tenure/month                       7043 non-null   int64  \n",
      " 5   PhoneService                       7043 non-null   int64  \n",
      " 6   MultipleLines                      7043 non-null   int64  \n",
      " 7   internet_service_is_dsl            7043 non-null   int64  \n",
      " 8   internet_service_is_fiber_optic    7043 non-null   int64  \n",
      " 9   OnlineSecurity                     7043 non-null   int64  \n",
      " 10  OnlineBackup                       7043 non-null   int64  \n",
      " 11  DeviceProtection                   7043 non-null   int64  \n",
      " 12  TechSupport                        7043 non-null   int64  \n",
      " 13  StreamingTV                        7043 non-null   int64  \n",
      " 14  StreamingMovies                    7043 non-null   int64  \n",
      " 15  Contract_is_month-to-month         7043 non-null   int64  \n",
      " 16  Contract_is_one_year               7043 non-null   int64  \n",
      " 17  Contract_is_two_year               7043 non-null   int64  \n",
      " 18  PaperlessBilling                   7043 non-null   int64  \n",
      " 19  PaymentMethod_is_electronic_check  7043 non-null   int64  \n",
      " 20  PaymentMethod_is_mailed_check      7043 non-null   int64  \n",
      " 21  PaymentMethod_is_bank_transfer     7043 non-null   int64  \n",
      " 22  PaymentMethod_is_credit_card       7043 non-null   int64  \n",
      " 23  MonthlyCharges                     7043 non-null   float64\n",
      " 24  TotalCharges                       7043 non-null   float64\n",
      " 25  Churn                              7043 non-null   int64  \n",
      "dtypes: float64(2), int64(24)\n",
      "memory usage: 1.4 MB\n"
     ]
    }
   ],
   "source": [
    "data.info()"
   ]
  },
  {
   "cell_type": "markdown",
   "id": "fb542a0d",
   "metadata": {},
   "source": [
    "This indeed shows that all nulls have been cleaned and everything is a number. We output this dataframe to be ingested in subsequent notebooks:"
   ]
  },
  {
   "cell_type": "code",
   "execution_count": 47,
   "id": "ea090eee",
   "metadata": {},
   "outputs": [],
   "source": [
    "data.to_csv('customer_churn_cleaned.csv', index = False)"
   ]
  },
  {
   "cell_type": "markdown",
   "id": "ef3e915e",
   "metadata": {},
   "source": [
    "# Conclusion\n",
    "\n",
    "We have obtained data about customer churn from Kaggle (see URL above), understood its features, the range of values each features take, and how they can be represented by numbers, e.g. $0$ and $1$ for Booleans, or one-hot representations for categorical variables... etc. The result is a dataframe that has no null values and is fully numerical.\n",
    "\n",
    "In the next notebook, we will visualise the distributions in this data and check for multicollinearity."
   ]
  },
  {
   "cell_type": "code",
   "execution_count": 48,
   "id": "b88d37b7",
   "metadata": {},
   "outputs": [
    {
     "data": {
      "text/plain": [
       "'Notebook done in 0:00:02.335729.'"
      ]
     },
     "execution_count": 48,
     "metadata": {},
     "output_type": "execute_result"
    }
   ],
   "source": [
    "\"Notebook done in \" + str(datetime.timedelta(seconds=time.time() - START)) + \".\""
   ]
  }
 ],
 "metadata": {
  "kernelspec": {
   "display_name": "Python 3",
   "language": "python",
   "name": "python3"
  },
  "language_info": {
   "codemirror_mode": {
    "name": "ipython",
    "version": 3
   },
   "file_extension": ".py",
   "mimetype": "text/x-python",
   "name": "python",
   "nbconvert_exporter": "python",
   "pygments_lexer": "ipython3",
   "version": "3.7.1"
  }
 },
 "nbformat": 4,
 "nbformat_minor": 5
}
