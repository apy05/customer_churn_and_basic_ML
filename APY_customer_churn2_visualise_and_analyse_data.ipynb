{
 "cells": [
  {
   "cell_type": "markdown",
   "id": "765f3e41",
   "metadata": {},
   "source": [
    "# Modelling Customer Churn 2 - Visualising and Analysing Data\n",
    "\n",
    "## A. P. Young\n",
    "\n",
    "### 2022-04-02"
   ]
  },
  {
   "cell_type": "code",
   "execution_count": 1,
   "id": "0984fdd4",
   "metadata": {},
   "outputs": [],
   "source": [
    "import time\n",
    "START = time.time()\n",
    "import datetime\n",
    "from datetime import timedelta\n",
    "import pandas as pd\n",
    "from collections import Counter\n",
    "from scipy.stats import skew\n",
    "from statsmodels.stats.outliers_influence import variance_inflation_factor  "
   ]
  },
  {
   "cell_type": "markdown",
   "id": "ea523fbf",
   "metadata": {},
   "source": [
    "# Introduction\n",
    "\n",
    "We want to model and understand the reasons behind customer churn. **Customer churn** refers to when customers have voluntarily stopped using a business' services within a given time window, usually expressed as a rate or a percentage. Usually, it is more expensive for businesses to acquire new customers than keep existing customers. Therefore, measuring, modelling and understanding customer churn is important for businesses, especially in industries where churn rate is high (e.g. mobile phones, insurance, internet service providers... etc.)\n",
    "\n",
    "For more details, see https://www.investopedia.com/terms/c/churnrate.asp (last accessed 3/4/2022)\n",
    "\n",
    "The dataset is from Kaggle - https://www.kaggle.com/datasets/blastchar/telco-customer-churn (last accessed 2/4/2022).\n",
    "\n",
    "We get the data - the data has already been cleaned (i.e. every value is numerical, and there are no missing values) in the preceding notebook."
   ]
  },
  {
   "cell_type": "code",
   "execution_count": 2,
   "id": "dc793e03",
   "metadata": {},
   "outputs": [],
   "source": [
    "data = pd.read_csv('customer_churn_cleaned.csv')"
   ]
  },
  {
   "cell_type": "code",
   "execution_count": 3,
   "id": "45d902d2",
   "metadata": {},
   "outputs": [
    {
     "data": {
      "text/plain": [
       "(7043, 26)"
      ]
     },
     "execution_count": 3,
     "metadata": {},
     "output_type": "execute_result"
    }
   ],
   "source": [
    "data.shape"
   ]
  },
  {
   "cell_type": "code",
   "execution_count": 4,
   "id": "883d09fe",
   "metadata": {},
   "outputs": [
    {
     "data": {
      "text/html": [
       "<div>\n",
       "<style scoped>\n",
       "    .dataframe tbody tr th:only-of-type {\n",
       "        vertical-align: middle;\n",
       "    }\n",
       "\n",
       "    .dataframe tbody tr th {\n",
       "        vertical-align: top;\n",
       "    }\n",
       "\n",
       "    .dataframe thead th {\n",
       "        text-align: right;\n",
       "    }\n",
       "</style>\n",
       "<table border=\"1\" class=\"dataframe\">\n",
       "  <thead>\n",
       "    <tr style=\"text-align: right;\">\n",
       "      <th></th>\n",
       "      <th>is_female</th>\n",
       "      <th>SeniorCitizen</th>\n",
       "      <th>Partner</th>\n",
       "      <th>Dependents</th>\n",
       "      <th>tenure/month</th>\n",
       "      <th>PhoneService</th>\n",
       "      <th>MultipleLines</th>\n",
       "      <th>internet_service_is_dsl</th>\n",
       "      <th>internet_service_is_fiber_optic</th>\n",
       "      <th>OnlineSecurity</th>\n",
       "      <th>...</th>\n",
       "      <th>Contract_is_one_year</th>\n",
       "      <th>Contract_is_two_year</th>\n",
       "      <th>PaperlessBilling</th>\n",
       "      <th>PaymentMethod_is_electronic_check</th>\n",
       "      <th>PaymentMethod_is_mailed_check</th>\n",
       "      <th>PaymentMethod_is_bank_transfer</th>\n",
       "      <th>PaymentMethod_is_credit_card</th>\n",
       "      <th>MonthlyCharges</th>\n",
       "      <th>TotalCharges</th>\n",
       "      <th>Churn</th>\n",
       "    </tr>\n",
       "  </thead>\n",
       "  <tbody>\n",
       "    <tr>\n",
       "      <th>0</th>\n",
       "      <td>1</td>\n",
       "      <td>0</td>\n",
       "      <td>1</td>\n",
       "      <td>0</td>\n",
       "      <td>1</td>\n",
       "      <td>0</td>\n",
       "      <td>0</td>\n",
       "      <td>1</td>\n",
       "      <td>0</td>\n",
       "      <td>0</td>\n",
       "      <td>...</td>\n",
       "      <td>0</td>\n",
       "      <td>0</td>\n",
       "      <td>1</td>\n",
       "      <td>1</td>\n",
       "      <td>0</td>\n",
       "      <td>0</td>\n",
       "      <td>0</td>\n",
       "      <td>29.85</td>\n",
       "      <td>29.85</td>\n",
       "      <td>0</td>\n",
       "    </tr>\n",
       "    <tr>\n",
       "      <th>1</th>\n",
       "      <td>0</td>\n",
       "      <td>0</td>\n",
       "      <td>0</td>\n",
       "      <td>0</td>\n",
       "      <td>34</td>\n",
       "      <td>1</td>\n",
       "      <td>0</td>\n",
       "      <td>1</td>\n",
       "      <td>0</td>\n",
       "      <td>1</td>\n",
       "      <td>...</td>\n",
       "      <td>1</td>\n",
       "      <td>0</td>\n",
       "      <td>0</td>\n",
       "      <td>0</td>\n",
       "      <td>1</td>\n",
       "      <td>0</td>\n",
       "      <td>0</td>\n",
       "      <td>56.95</td>\n",
       "      <td>1889.50</td>\n",
       "      <td>0</td>\n",
       "    </tr>\n",
       "    <tr>\n",
       "      <th>2</th>\n",
       "      <td>0</td>\n",
       "      <td>0</td>\n",
       "      <td>0</td>\n",
       "      <td>0</td>\n",
       "      <td>2</td>\n",
       "      <td>1</td>\n",
       "      <td>0</td>\n",
       "      <td>1</td>\n",
       "      <td>0</td>\n",
       "      <td>1</td>\n",
       "      <td>...</td>\n",
       "      <td>0</td>\n",
       "      <td>0</td>\n",
       "      <td>1</td>\n",
       "      <td>0</td>\n",
       "      <td>1</td>\n",
       "      <td>0</td>\n",
       "      <td>0</td>\n",
       "      <td>53.85</td>\n",
       "      <td>108.15</td>\n",
       "      <td>1</td>\n",
       "    </tr>\n",
       "    <tr>\n",
       "      <th>3</th>\n",
       "      <td>0</td>\n",
       "      <td>0</td>\n",
       "      <td>0</td>\n",
       "      <td>0</td>\n",
       "      <td>45</td>\n",
       "      <td>0</td>\n",
       "      <td>0</td>\n",
       "      <td>1</td>\n",
       "      <td>0</td>\n",
       "      <td>1</td>\n",
       "      <td>...</td>\n",
       "      <td>1</td>\n",
       "      <td>0</td>\n",
       "      <td>0</td>\n",
       "      <td>0</td>\n",
       "      <td>0</td>\n",
       "      <td>1</td>\n",
       "      <td>0</td>\n",
       "      <td>42.30</td>\n",
       "      <td>1840.75</td>\n",
       "      <td>0</td>\n",
       "    </tr>\n",
       "    <tr>\n",
       "      <th>4</th>\n",
       "      <td>1</td>\n",
       "      <td>0</td>\n",
       "      <td>0</td>\n",
       "      <td>0</td>\n",
       "      <td>2</td>\n",
       "      <td>1</td>\n",
       "      <td>0</td>\n",
       "      <td>0</td>\n",
       "      <td>1</td>\n",
       "      <td>0</td>\n",
       "      <td>...</td>\n",
       "      <td>0</td>\n",
       "      <td>0</td>\n",
       "      <td>1</td>\n",
       "      <td>1</td>\n",
       "      <td>0</td>\n",
       "      <td>0</td>\n",
       "      <td>0</td>\n",
       "      <td>70.70</td>\n",
       "      <td>151.65</td>\n",
       "      <td>1</td>\n",
       "    </tr>\n",
       "    <tr>\n",
       "      <th>...</th>\n",
       "      <td>...</td>\n",
       "      <td>...</td>\n",
       "      <td>...</td>\n",
       "      <td>...</td>\n",
       "      <td>...</td>\n",
       "      <td>...</td>\n",
       "      <td>...</td>\n",
       "      <td>...</td>\n",
       "      <td>...</td>\n",
       "      <td>...</td>\n",
       "      <td>...</td>\n",
       "      <td>...</td>\n",
       "      <td>...</td>\n",
       "      <td>...</td>\n",
       "      <td>...</td>\n",
       "      <td>...</td>\n",
       "      <td>...</td>\n",
       "      <td>...</td>\n",
       "      <td>...</td>\n",
       "      <td>...</td>\n",
       "      <td>...</td>\n",
       "    </tr>\n",
       "    <tr>\n",
       "      <th>7038</th>\n",
       "      <td>0</td>\n",
       "      <td>0</td>\n",
       "      <td>1</td>\n",
       "      <td>1</td>\n",
       "      <td>24</td>\n",
       "      <td>1</td>\n",
       "      <td>1</td>\n",
       "      <td>1</td>\n",
       "      <td>0</td>\n",
       "      <td>1</td>\n",
       "      <td>...</td>\n",
       "      <td>1</td>\n",
       "      <td>0</td>\n",
       "      <td>1</td>\n",
       "      <td>0</td>\n",
       "      <td>1</td>\n",
       "      <td>0</td>\n",
       "      <td>0</td>\n",
       "      <td>84.80</td>\n",
       "      <td>1990.50</td>\n",
       "      <td>0</td>\n",
       "    </tr>\n",
       "    <tr>\n",
       "      <th>7039</th>\n",
       "      <td>1</td>\n",
       "      <td>0</td>\n",
       "      <td>1</td>\n",
       "      <td>1</td>\n",
       "      <td>72</td>\n",
       "      <td>1</td>\n",
       "      <td>1</td>\n",
       "      <td>0</td>\n",
       "      <td>1</td>\n",
       "      <td>0</td>\n",
       "      <td>...</td>\n",
       "      <td>1</td>\n",
       "      <td>0</td>\n",
       "      <td>1</td>\n",
       "      <td>0</td>\n",
       "      <td>0</td>\n",
       "      <td>0</td>\n",
       "      <td>1</td>\n",
       "      <td>103.20</td>\n",
       "      <td>7362.90</td>\n",
       "      <td>0</td>\n",
       "    </tr>\n",
       "    <tr>\n",
       "      <th>7040</th>\n",
       "      <td>1</td>\n",
       "      <td>0</td>\n",
       "      <td>1</td>\n",
       "      <td>1</td>\n",
       "      <td>11</td>\n",
       "      <td>0</td>\n",
       "      <td>0</td>\n",
       "      <td>1</td>\n",
       "      <td>0</td>\n",
       "      <td>1</td>\n",
       "      <td>...</td>\n",
       "      <td>0</td>\n",
       "      <td>0</td>\n",
       "      <td>1</td>\n",
       "      <td>1</td>\n",
       "      <td>0</td>\n",
       "      <td>0</td>\n",
       "      <td>0</td>\n",
       "      <td>29.60</td>\n",
       "      <td>346.45</td>\n",
       "      <td>0</td>\n",
       "    </tr>\n",
       "    <tr>\n",
       "      <th>7041</th>\n",
       "      <td>0</td>\n",
       "      <td>1</td>\n",
       "      <td>1</td>\n",
       "      <td>0</td>\n",
       "      <td>4</td>\n",
       "      <td>1</td>\n",
       "      <td>1</td>\n",
       "      <td>0</td>\n",
       "      <td>1</td>\n",
       "      <td>0</td>\n",
       "      <td>...</td>\n",
       "      <td>0</td>\n",
       "      <td>0</td>\n",
       "      <td>1</td>\n",
       "      <td>0</td>\n",
       "      <td>1</td>\n",
       "      <td>0</td>\n",
       "      <td>0</td>\n",
       "      <td>74.40</td>\n",
       "      <td>306.60</td>\n",
       "      <td>1</td>\n",
       "    </tr>\n",
       "    <tr>\n",
       "      <th>7042</th>\n",
       "      <td>0</td>\n",
       "      <td>0</td>\n",
       "      <td>0</td>\n",
       "      <td>0</td>\n",
       "      <td>66</td>\n",
       "      <td>1</td>\n",
       "      <td>0</td>\n",
       "      <td>0</td>\n",
       "      <td>1</td>\n",
       "      <td>1</td>\n",
       "      <td>...</td>\n",
       "      <td>0</td>\n",
       "      <td>1</td>\n",
       "      <td>1</td>\n",
       "      <td>0</td>\n",
       "      <td>0</td>\n",
       "      <td>1</td>\n",
       "      <td>0</td>\n",
       "      <td>105.65</td>\n",
       "      <td>6844.50</td>\n",
       "      <td>0</td>\n",
       "    </tr>\n",
       "  </tbody>\n",
       "</table>\n",
       "<p>7043 rows × 26 columns</p>\n",
       "</div>"
      ],
      "text/plain": [
       "      is_female  SeniorCitizen  Partner  Dependents  tenure/month  \\\n",
       "0             1              0        1           0             1   \n",
       "1             0              0        0           0            34   \n",
       "2             0              0        0           0             2   \n",
       "3             0              0        0           0            45   \n",
       "4             1              0        0           0             2   \n",
       "...         ...            ...      ...         ...           ...   \n",
       "7038          0              0        1           1            24   \n",
       "7039          1              0        1           1            72   \n",
       "7040          1              0        1           1            11   \n",
       "7041          0              1        1           0             4   \n",
       "7042          0              0        0           0            66   \n",
       "\n",
       "      PhoneService  MultipleLines  internet_service_is_dsl  \\\n",
       "0                0              0                        1   \n",
       "1                1              0                        1   \n",
       "2                1              0                        1   \n",
       "3                0              0                        1   \n",
       "4                1              0                        0   \n",
       "...            ...            ...                      ...   \n",
       "7038             1              1                        1   \n",
       "7039             1              1                        0   \n",
       "7040             0              0                        1   \n",
       "7041             1              1                        0   \n",
       "7042             1              0                        0   \n",
       "\n",
       "      internet_service_is_fiber_optic  OnlineSecurity  ...  \\\n",
       "0                                   0               0  ...   \n",
       "1                                   0               1  ...   \n",
       "2                                   0               1  ...   \n",
       "3                                   0               1  ...   \n",
       "4                                   1               0  ...   \n",
       "...                               ...             ...  ...   \n",
       "7038                                0               1  ...   \n",
       "7039                                1               0  ...   \n",
       "7040                                0               1  ...   \n",
       "7041                                1               0  ...   \n",
       "7042                                1               1  ...   \n",
       "\n",
       "      Contract_is_one_year  Contract_is_two_year  PaperlessBilling  \\\n",
       "0                        0                     0                 1   \n",
       "1                        1                     0                 0   \n",
       "2                        0                     0                 1   \n",
       "3                        1                     0                 0   \n",
       "4                        0                     0                 1   \n",
       "...                    ...                   ...               ...   \n",
       "7038                     1                     0                 1   \n",
       "7039                     1                     0                 1   \n",
       "7040                     0                     0                 1   \n",
       "7041                     0                     0                 1   \n",
       "7042                     0                     1                 1   \n",
       "\n",
       "      PaymentMethod_is_electronic_check  PaymentMethod_is_mailed_check  \\\n",
       "0                                     1                              0   \n",
       "1                                     0                              1   \n",
       "2                                     0                              1   \n",
       "3                                     0                              0   \n",
       "4                                     1                              0   \n",
       "...                                 ...                            ...   \n",
       "7038                                  0                              1   \n",
       "7039                                  0                              0   \n",
       "7040                                  1                              0   \n",
       "7041                                  0                              1   \n",
       "7042                                  0                              0   \n",
       "\n",
       "      PaymentMethod_is_bank_transfer  PaymentMethod_is_credit_card  \\\n",
       "0                                  0                             0   \n",
       "1                                  0                             0   \n",
       "2                                  0                             0   \n",
       "3                                  1                             0   \n",
       "4                                  0                             0   \n",
       "...                              ...                           ...   \n",
       "7038                               0                             0   \n",
       "7039                               0                             1   \n",
       "7040                               0                             0   \n",
       "7041                               0                             0   \n",
       "7042                               1                             0   \n",
       "\n",
       "      MonthlyCharges  TotalCharges  Churn  \n",
       "0              29.85         29.85      0  \n",
       "1              56.95       1889.50      0  \n",
       "2              53.85        108.15      1  \n",
       "3              42.30       1840.75      0  \n",
       "4              70.70        151.65      1  \n",
       "...              ...           ...    ...  \n",
       "7038           84.80       1990.50      0  \n",
       "7039          103.20       7362.90      0  \n",
       "7040           29.60        346.45      0  \n",
       "7041           74.40        306.60      1  \n",
       "7042          105.65       6844.50      0  \n",
       "\n",
       "[7043 rows x 26 columns]"
      ]
     },
     "execution_count": 4,
     "metadata": {},
     "output_type": "execute_result"
    }
   ],
   "source": [
    "data"
   ]
  },
  {
   "cell_type": "markdown",
   "id": "a27721d3",
   "metadata": {},
   "source": [
    "# Visualising the Distributions of Values\n",
    "\n",
    "We check the distributions of values for each column.\n",
    "\n",
    "## Boolean Features\n",
    "\n",
    "First, for the Booleans. We have the following helper function:"
   ]
  },
  {
   "cell_type": "code",
   "execution_count": 5,
   "id": "2fa29a87",
   "metadata": {},
   "outputs": [],
   "source": [
    "def count_and_perentage_of_Boolean_features(mydf):\n",
    "    \"\"\"\n",
    "    Input dataframe\n",
    "    Output dataframe where each row is a Boolean feature\n",
    "    and we have raw counts of 0 and 1, as well as their percentages\n",
    "    NOTE THE DATAFRAME BOOLEANS HAVE VALUES 0 AND 1\n",
    "    (not \"yes\", \"no\"... etc.)\n",
    "    \"\"\"\n",
    "    answer = []\n",
    "    # go through each feature\n",
    "    for feature in list(mydf):\n",
    "        mycol = mydf[feature]\n",
    "        value_counts = dict(Counter(mycol))\n",
    "        # if there are exactly two distinct values\n",
    "        if len(value_counts) == 2:\n",
    "            # we count those values\n",
    "            value_counts['feature'] = feature\n",
    "            answer.append(value_counts)\n",
    "    answer = pd.DataFrame(answer)\n",
    "    # sort columns\n",
    "    answer = answer[['feature', 0, 1]]\n",
    "    answer = answer.set_index('feature')\n",
    "    # give fractions of each class\n",
    "    answer['%0'] = answer[0] / answer.sum(axis = 1)\n",
    "    answer['%1'] = answer[1] / answer.sum(axis = 1)\n",
    "    return answer"
   ]
  },
  {
   "cell_type": "markdown",
   "id": "d80136a1",
   "metadata": {},
   "source": [
    "We apply the function:"
   ]
  },
  {
   "cell_type": "code",
   "execution_count": 6,
   "id": "6483b615",
   "metadata": {},
   "outputs": [],
   "source": [
    "booleans_df = count_and_perentage_of_Boolean_features(data)"
   ]
  },
  {
   "cell_type": "code",
   "execution_count": 7,
   "id": "aae73f31",
   "metadata": {
    "scrolled": false
   },
   "outputs": [
    {
     "data": {
      "text/html": [
       "<div>\n",
       "<style scoped>\n",
       "    .dataframe tbody tr th:only-of-type {\n",
       "        vertical-align: middle;\n",
       "    }\n",
       "\n",
       "    .dataframe tbody tr th {\n",
       "        vertical-align: top;\n",
       "    }\n",
       "\n",
       "    .dataframe thead th {\n",
       "        text-align: right;\n",
       "    }\n",
       "</style>\n",
       "<table border=\"1\" class=\"dataframe\">\n",
       "  <thead>\n",
       "    <tr style=\"text-align: right;\">\n",
       "      <th></th>\n",
       "      <th>0</th>\n",
       "      <th>1</th>\n",
       "      <th>%0</th>\n",
       "      <th>%1</th>\n",
       "    </tr>\n",
       "    <tr>\n",
       "      <th>feature</th>\n",
       "      <th></th>\n",
       "      <th></th>\n",
       "      <th></th>\n",
       "      <th></th>\n",
       "    </tr>\n",
       "  </thead>\n",
       "  <tbody>\n",
       "    <tr>\n",
       "      <th>is_female</th>\n",
       "      <td>3555</td>\n",
       "      <td>3488</td>\n",
       "      <td>0.504756</td>\n",
       "      <td>0.495208</td>\n",
       "    </tr>\n",
       "    <tr>\n",
       "      <th>SeniorCitizen</th>\n",
       "      <td>5901</td>\n",
       "      <td>1142</td>\n",
       "      <td>0.837853</td>\n",
       "      <td>0.162128</td>\n",
       "    </tr>\n",
       "    <tr>\n",
       "      <th>Partner</th>\n",
       "      <td>3641</td>\n",
       "      <td>3402</td>\n",
       "      <td>0.516967</td>\n",
       "      <td>0.482997</td>\n",
       "    </tr>\n",
       "    <tr>\n",
       "      <th>Dependents</th>\n",
       "      <td>4933</td>\n",
       "      <td>2110</td>\n",
       "      <td>0.700412</td>\n",
       "      <td>0.299558</td>\n",
       "    </tr>\n",
       "    <tr>\n",
       "      <th>PhoneService</th>\n",
       "      <td>682</td>\n",
       "      <td>6361</td>\n",
       "      <td>0.096834</td>\n",
       "      <td>0.903154</td>\n",
       "    </tr>\n",
       "    <tr>\n",
       "      <th>MultipleLines</th>\n",
       "      <td>4072</td>\n",
       "      <td>2971</td>\n",
       "      <td>0.578163</td>\n",
       "      <td>0.421803</td>\n",
       "    </tr>\n",
       "    <tr>\n",
       "      <th>internet_service_is_dsl</th>\n",
       "      <td>4622</td>\n",
       "      <td>2421</td>\n",
       "      <td>0.656254</td>\n",
       "      <td>0.343714</td>\n",
       "    </tr>\n",
       "    <tr>\n",
       "      <th>internet_service_is_fiber_optic</th>\n",
       "      <td>3947</td>\n",
       "      <td>3096</td>\n",
       "      <td>0.560415</td>\n",
       "      <td>0.439550</td>\n",
       "    </tr>\n",
       "    <tr>\n",
       "      <th>OnlineSecurity</th>\n",
       "      <td>5024</td>\n",
       "      <td>2019</td>\n",
       "      <td>0.713332</td>\n",
       "      <td>0.286639</td>\n",
       "    </tr>\n",
       "    <tr>\n",
       "      <th>OnlineBackup</th>\n",
       "      <td>4614</td>\n",
       "      <td>2429</td>\n",
       "      <td>0.655119</td>\n",
       "      <td>0.344849</td>\n",
       "    </tr>\n",
       "    <tr>\n",
       "      <th>DeviceProtection</th>\n",
       "      <td>4621</td>\n",
       "      <td>2422</td>\n",
       "      <td>0.656112</td>\n",
       "      <td>0.343856</td>\n",
       "    </tr>\n",
       "    <tr>\n",
       "      <th>TechSupport</th>\n",
       "      <td>4999</td>\n",
       "      <td>2044</td>\n",
       "      <td>0.709783</td>\n",
       "      <td>0.290188</td>\n",
       "    </tr>\n",
       "    <tr>\n",
       "      <th>StreamingTV</th>\n",
       "      <td>4336</td>\n",
       "      <td>2707</td>\n",
       "      <td>0.615647</td>\n",
       "      <td>0.384320</td>\n",
       "    </tr>\n",
       "    <tr>\n",
       "      <th>StreamingMovies</th>\n",
       "      <td>4311</td>\n",
       "      <td>2732</td>\n",
       "      <td>0.612097</td>\n",
       "      <td>0.387869</td>\n",
       "    </tr>\n",
       "    <tr>\n",
       "      <th>Contract_is_month-to-month</th>\n",
       "      <td>3168</td>\n",
       "      <td>3875</td>\n",
       "      <td>0.449808</td>\n",
       "      <td>0.550157</td>\n",
       "    </tr>\n",
       "    <tr>\n",
       "      <th>Contract_is_one_year</th>\n",
       "      <td>5570</td>\n",
       "      <td>1473</td>\n",
       "      <td>0.790856</td>\n",
       "      <td>0.209120</td>\n",
       "    </tr>\n",
       "    <tr>\n",
       "      <th>Contract_is_two_year</th>\n",
       "      <td>5348</td>\n",
       "      <td>1695</td>\n",
       "      <td>0.759336</td>\n",
       "      <td>0.240639</td>\n",
       "    </tr>\n",
       "    <tr>\n",
       "      <th>PaperlessBilling</th>\n",
       "      <td>2872</td>\n",
       "      <td>4171</td>\n",
       "      <td>0.407781</td>\n",
       "      <td>0.592185</td>\n",
       "    </tr>\n",
       "    <tr>\n",
       "      <th>PaymentMethod_is_electronic_check</th>\n",
       "      <td>4678</td>\n",
       "      <td>2365</td>\n",
       "      <td>0.664206</td>\n",
       "      <td>0.335763</td>\n",
       "    </tr>\n",
       "    <tr>\n",
       "      <th>PaymentMethod_is_mailed_check</th>\n",
       "      <td>5431</td>\n",
       "      <td>1612</td>\n",
       "      <td>0.771120</td>\n",
       "      <td>0.228855</td>\n",
       "    </tr>\n",
       "    <tr>\n",
       "      <th>PaymentMethod_is_bank_transfer</th>\n",
       "      <td>5499</td>\n",
       "      <td>1544</td>\n",
       "      <td>0.780775</td>\n",
       "      <td>0.219200</td>\n",
       "    </tr>\n",
       "    <tr>\n",
       "      <th>PaymentMethod_is_credit_card</th>\n",
       "      <td>5521</td>\n",
       "      <td>1522</td>\n",
       "      <td>0.783899</td>\n",
       "      <td>0.216077</td>\n",
       "    </tr>\n",
       "    <tr>\n",
       "      <th>Churn</th>\n",
       "      <td>5174</td>\n",
       "      <td>1869</td>\n",
       "      <td>0.734630</td>\n",
       "      <td>0.265342</td>\n",
       "    </tr>\n",
       "  </tbody>\n",
       "</table>\n",
       "</div>"
      ],
      "text/plain": [
       "                                      0     1        %0        %1\n",
       "feature                                                          \n",
       "is_female                          3555  3488  0.504756  0.495208\n",
       "SeniorCitizen                      5901  1142  0.837853  0.162128\n",
       "Partner                            3641  3402  0.516967  0.482997\n",
       "Dependents                         4933  2110  0.700412  0.299558\n",
       "PhoneService                        682  6361  0.096834  0.903154\n",
       "MultipleLines                      4072  2971  0.578163  0.421803\n",
       "internet_service_is_dsl            4622  2421  0.656254  0.343714\n",
       "internet_service_is_fiber_optic    3947  3096  0.560415  0.439550\n",
       "OnlineSecurity                     5024  2019  0.713332  0.286639\n",
       "OnlineBackup                       4614  2429  0.655119  0.344849\n",
       "DeviceProtection                   4621  2422  0.656112  0.343856\n",
       "TechSupport                        4999  2044  0.709783  0.290188\n",
       "StreamingTV                        4336  2707  0.615647  0.384320\n",
       "StreamingMovies                    4311  2732  0.612097  0.387869\n",
       "Contract_is_month-to-month         3168  3875  0.449808  0.550157\n",
       "Contract_is_one_year               5570  1473  0.790856  0.209120\n",
       "Contract_is_two_year               5348  1695  0.759336  0.240639\n",
       "PaperlessBilling                   2872  4171  0.407781  0.592185\n",
       "PaymentMethod_is_electronic_check  4678  2365  0.664206  0.335763\n",
       "PaymentMethod_is_mailed_check      5431  1612  0.771120  0.228855\n",
       "PaymentMethod_is_bank_transfer     5499  1544  0.780775  0.219200\n",
       "PaymentMethod_is_credit_card       5521  1522  0.783899  0.216077\n",
       "Churn                              5174  1869  0.734630  0.265342"
      ]
     },
     "execution_count": 7,
     "metadata": {},
     "output_type": "execute_result"
    }
   ],
   "source": [
    "booleans_df"
   ]
  },
  {
   "cell_type": "markdown",
   "id": "9b2c9548",
   "metadata": {},
   "source": [
    "The most important observation is that `Churn`, the target variable, is not balanced - it is $73\\%$ negative and $27\\%$ positive, which could be a realistic level of churn (given that often only a minority of customers cancel their subscriptions).\n",
    "\n",
    "For model training purposes, we would need to balance the classes, either downsampling the majority or upsampling (copying) the minority class, for the usual reasons (e.g. misleading accuracy, overfitting... etc.).\n",
    "\n",
    "The imbalance is mild though, around $1:3$.\n",
    "\n",
    "**Conclusion 1:** We need to balance the dependent variable either by downsampling or upsampling."
   ]
  },
  {
   "cell_type": "markdown",
   "id": "b706735c",
   "metadata": {},
   "source": [
    "## Non-Boolean Features\n",
    "\n",
    "As for the non-Booleans features:"
   ]
  },
  {
   "cell_type": "code",
   "execution_count": 8,
   "id": "18c1e624",
   "metadata": {},
   "outputs": [],
   "source": [
    "non_Boolean_features = [col for col in list(data) if col not in list(booleans_df.index)]"
   ]
  },
  {
   "cell_type": "code",
   "execution_count": 9,
   "id": "4fecf62c",
   "metadata": {},
   "outputs": [
    {
     "data": {
      "text/plain": [
       "['tenure/month', 'MonthlyCharges', 'TotalCharges']"
      ]
     },
     "execution_count": 9,
     "metadata": {},
     "output_type": "execute_result"
    }
   ],
   "source": [
    "non_Boolean_features"
   ]
  },
  {
   "cell_type": "markdown",
   "id": "de4ca8c7",
   "metadata": {},
   "source": [
    "We visualise their distributions:"
   ]
  },
  {
   "cell_type": "code",
   "execution_count": 10,
   "id": "1122d222",
   "metadata": {},
   "outputs": [
    {
     "data": {
      "text/plain": [
       "<matplotlib.axes._subplots.AxesSubplot at 0x11b2ebda0>"
      ]
     },
     "execution_count": 10,
     "metadata": {},
     "output_type": "execute_result"
    }
   ],
   "source": [
    "index = 0\n",
    "data[non_Boolean_features[index]].plot.hist(figsize = (12, 6),\n",
    "                                        title = 'Distribution of ' + non_Boolean_features[index],\n",
    "                                        bins = 100)"
   ]
  },
  {
   "cell_type": "markdown",
   "id": "2a6ed853",
   "metadata": {},
   "source": [
    "Tenure in months shows that there are many customers with very short tenures, and also many customers with very long tenures, and an \"even\" part in the middle."
   ]
  },
  {
   "cell_type": "code",
   "execution_count": 11,
   "id": "85c55f20",
   "metadata": {},
   "outputs": [
    {
     "data": {
      "text/plain": [
       "<matplotlib.axes._subplots.AxesSubplot at 0x11b554978>"
      ]
     },
     "execution_count": 11,
     "metadata": {},
     "output_type": "execute_result"
    },
    {
     "data": {
      "image/png": "[encoded data removed]",
      "text/plain": [
       "<Figure size 864x432 with 1 Axes>"
      ]
     },
     "metadata": {
      "needs_background": "light"
     },
     "output_type": "display_data"
    }
   ],
   "source": [
    "index = 1\n",
    "data[non_Boolean_features[index]].plot.hist(figsize = (12, 6),\n",
    "                                        title = 'Distribution of ' + non_Boolean_features[index],\n",
    "                                        bins = 100)"
   ]
  },
  {
   "cell_type": "markdown",
   "id": "158fe353",
   "metadata": {},
   "source": [
    "Distribution of montly charges have this \"bumpy\" structure perhaps because this is calculated as an average of charges per month."
   ]
  },
  {
   "cell_type": "code",
   "execution_count": 12,
   "id": "5bc5bcdf",
   "metadata": {},
   "outputs": [
    {
     "data": {
      "text/plain": [
       "<matplotlib.axes._subplots.AxesSubplot at 0x11b64bb38>"
      ]
     },
     "execution_count": 12,
     "metadata": {},
     "output_type": "execute_result"
    },
    {
     "data": {
      "image/png": "[encoded data removed]",
      "text/plain": [
       "<Figure size 864x432 with 1 Axes>"
      ]
     },
     "metadata": {
      "needs_background": "light"
     },
     "output_type": "display_data"
    }
   ],
   "source": [
    "index = 2\n",
    "data[non_Boolean_features[index]].plot.hist(figsize = (12, 6),\n",
    "                                        title = 'Distribution of ' + non_Boolean_features[index],\n",
    "                                        bins = 100)"
   ]
  },
  {
   "cell_type": "markdown",
   "id": "a764c03f",
   "metadata": {},
   "source": [
    "There are many customers who pay very little, but then there is a \"slow\" decrease in the number of customers as the total charges increase."
   ]
  },
  {
   "cell_type": "markdown",
   "id": "70587a91",
   "metadata": {},
   "source": [
    "# Correlations Between Features\n",
    "\n",
    "We can examine the (Pearson) correlations between features. This is to detect multicollinearity. As the standard `.corr()` matrix from a dataframe is hard to read, we write a helper function to \"unroll\" the correlation matrix into distinct pairs of features."
   ]
  },
  {
   "cell_type": "code",
   "execution_count": 13,
   "id": "512aeef4",
   "metadata": {},
   "outputs": [],
   "source": [
    "def unroll_correlation_matrix(mydf):\n",
    "    \"\"\"\n",
    "    Input correlation matrix dataframe (dataframe.corr())\n",
    "    Output dataframe with (Pearson) correlations between all distinct columns\n",
    "    Sorted from highest to lowest value of correlation\n",
    "    \"\"\"\n",
    "    answer = []\n",
    "    size = mydf.shape[0]\n",
    "    for index1 in range(size):\n",
    "        for index2 in range(index1 + 1, size):\n",
    "            col1 = list(mydf)[index1]\n",
    "            col2 = list(mydf)[index2]\n",
    "            correlation = mydf.loc[col1][col2]\n",
    "            myrow = {'column1' : col1,\n",
    "                     'column2' : col2,\n",
    "                     'correlation' : correlation}\n",
    "            answer.append(myrow)\n",
    "    return pd.DataFrame(answer).sort_values(by = 'correlation', ascending = False).reset_index(drop = True)"
   ]
  },
  {
   "cell_type": "code",
   "execution_count": 14,
   "id": "1abfe08e",
   "metadata": {},
   "outputs": [],
   "source": [
    "correlations_df = unroll_correlation_matrix(data.corr())"
   ]
  },
  {
   "cell_type": "code",
   "execution_count": 15,
   "id": "3406e44e",
   "metadata": {},
   "outputs": [
    {
     "data": {
      "text/html": [
       "<div>\n",
       "<style scoped>\n",
       "    .dataframe tbody tr th:only-of-type {\n",
       "        vertical-align: middle;\n",
       "    }\n",
       "\n",
       "    .dataframe tbody tr th {\n",
       "        vertical-align: top;\n",
       "    }\n",
       "\n",
       "    .dataframe thead th {\n",
       "        text-align: right;\n",
       "    }\n",
       "</style>\n",
       "<table border=\"1\" class=\"dataframe\">\n",
       "  <thead>\n",
       "    <tr style=\"text-align: right;\">\n",
       "      <th></th>\n",
       "      <th>column1</th>\n",
       "      <th>column2</th>\n",
       "      <th>correlation</th>\n",
       "    </tr>\n",
       "  </thead>\n",
       "  <tbody>\n",
       "    <tr>\n",
       "      <th>0</th>\n",
       "      <td>tenure/month</td>\n",
       "      <td>TotalCharges</td>\n",
       "      <td>0.826178</td>\n",
       "    </tr>\n",
       "    <tr>\n",
       "      <th>1</th>\n",
       "      <td>internet_service_is_fiber_optic</td>\n",
       "      <td>MonthlyCharges</td>\n",
       "      <td>0.787066</td>\n",
       "    </tr>\n",
       "    <tr>\n",
       "      <th>2</th>\n",
       "      <td>MonthlyCharges</td>\n",
       "      <td>TotalCharges</td>\n",
       "      <td>0.651174</td>\n",
       "    </tr>\n",
       "    <tr>\n",
       "      <th>3</th>\n",
       "      <td>StreamingTV</td>\n",
       "      <td>MonthlyCharges</td>\n",
       "      <td>0.629603</td>\n",
       "    </tr>\n",
       "    <tr>\n",
       "      <th>4</th>\n",
       "      <td>StreamingMovies</td>\n",
       "      <td>MonthlyCharges</td>\n",
       "      <td>0.627429</td>\n",
       "    </tr>\n",
       "    <tr>\n",
       "      <th>...</th>\n",
       "      <td>...</td>\n",
       "      <td>...</td>\n",
       "      <td>...</td>\n",
       "    </tr>\n",
       "    <tr>\n",
       "      <th>320</th>\n",
       "      <td>PhoneService</td>\n",
       "      <td>internet_service_is_dsl</td>\n",
       "      <td>-0.452425</td>\n",
       "    </tr>\n",
       "    <tr>\n",
       "      <th>321</th>\n",
       "      <td>Contract_is_month-to-month</td>\n",
       "      <td>Contract_is_one_year</td>\n",
       "      <td>-0.568744</td>\n",
       "    </tr>\n",
       "    <tr>\n",
       "      <th>322</th>\n",
       "      <td>Contract_is_month-to-month</td>\n",
       "      <td>Contract_is_two_year</td>\n",
       "      <td>-0.622633</td>\n",
       "    </tr>\n",
       "    <tr>\n",
       "      <th>323</th>\n",
       "      <td>internet_service_is_dsl</td>\n",
       "      <td>internet_service_is_fiber_optic</td>\n",
       "      <td>-0.640987</td>\n",
       "    </tr>\n",
       "    <tr>\n",
       "      <th>324</th>\n",
       "      <td>tenure/month</td>\n",
       "      <td>Contract_is_month-to-month</td>\n",
       "      <td>-0.645561</td>\n",
       "    </tr>\n",
       "  </tbody>\n",
       "</table>\n",
       "<p>325 rows × 3 columns</p>\n",
       "</div>"
      ],
      "text/plain": [
       "                             column1                          column2  \\\n",
       "0                       tenure/month                     TotalCharges   \n",
       "1    internet_service_is_fiber_optic                   MonthlyCharges   \n",
       "2                     MonthlyCharges                     TotalCharges   \n",
       "3                        StreamingTV                   MonthlyCharges   \n",
       "4                    StreamingMovies                   MonthlyCharges   \n",
       "..                               ...                              ...   \n",
       "320                     PhoneService          internet_service_is_dsl   \n",
       "321       Contract_is_month-to-month             Contract_is_one_year   \n",
       "322       Contract_is_month-to-month             Contract_is_two_year   \n",
       "323          internet_service_is_dsl  internet_service_is_fiber_optic   \n",
       "324                     tenure/month       Contract_is_month-to-month   \n",
       "\n",
       "     correlation  \n",
       "0       0.826178  \n",
       "1       0.787066  \n",
       "2       0.651174  \n",
       "3       0.629603  \n",
       "4       0.627429  \n",
       "..           ...  \n",
       "320    -0.452425  \n",
       "321    -0.568744  \n",
       "322    -0.622633  \n",
       "323    -0.640987  \n",
       "324    -0.645561  \n",
       "\n",
       "[325 rows x 3 columns]"
      ]
     },
     "execution_count": 15,
     "metadata": {},
     "output_type": "execute_result"
    }
   ],
   "source": [
    "correlations_df"
   ]
  },
  {
   "cell_type": "markdown",
   "id": "13e31475",
   "metadata": {},
   "source": [
    "Many of of these correlations are common-sensical, e.g. the longer the tenure the more the total charges, and extra services or service features such as fiber optic cables, streaming TV and movies, device protection... etc. will raise either monthly charges or total charges. Also, churn is somewhat correlated with the contract being monthly.\n",
    "\n",
    "We use the heuristic that any correlation whose magnitude is larger than $0.7$ indicates the presence of multicollinearity, see https://blog.clairvoyantsoft.com/correlation-and-collinearity-how-they-can-make-or-break-a-model-9135fbe6936a (last acessed 2/4/2022)."
   ]
  },
  {
   "cell_type": "code",
   "execution_count": 16,
   "id": "6102e0a4",
   "metadata": {},
   "outputs": [],
   "source": [
    "strong_correlations_df = correlations_df[(correlations_df['correlation'] > 0.7)|(correlations_df['correlation'] < -0.7)]"
   ]
  },
  {
   "cell_type": "code",
   "execution_count": 17,
   "id": "ccbeffa9",
   "metadata": {},
   "outputs": [
    {
     "data": {
      "text/html": [
       "<div>\n",
       "<style scoped>\n",
       "    .dataframe tbody tr th:only-of-type {\n",
       "        vertical-align: middle;\n",
       "    }\n",
       "\n",
       "    .dataframe tbody tr th {\n",
       "        vertical-align: top;\n",
       "    }\n",
       "\n",
       "    .dataframe thead th {\n",
       "        text-align: right;\n",
       "    }\n",
       "</style>\n",
       "<table border=\"1\" class=\"dataframe\">\n",
       "  <thead>\n",
       "    <tr style=\"text-align: right;\">\n",
       "      <th></th>\n",
       "      <th>column1</th>\n",
       "      <th>column2</th>\n",
       "      <th>correlation</th>\n",
       "    </tr>\n",
       "  </thead>\n",
       "  <tbody>\n",
       "    <tr>\n",
       "      <th>0</th>\n",
       "      <td>tenure/month</td>\n",
       "      <td>TotalCharges</td>\n",
       "      <td>0.826178</td>\n",
       "    </tr>\n",
       "    <tr>\n",
       "      <th>1</th>\n",
       "      <td>internet_service_is_fiber_optic</td>\n",
       "      <td>MonthlyCharges</td>\n",
       "      <td>0.787066</td>\n",
       "    </tr>\n",
       "  </tbody>\n",
       "</table>\n",
       "</div>"
      ],
      "text/plain": [
       "                           column1         column2  correlation\n",
       "0                     tenure/month    TotalCharges     0.826178\n",
       "1  internet_service_is_fiber_optic  MonthlyCharges     0.787066"
      ]
     },
     "execution_count": 17,
     "metadata": {},
     "output_type": "execute_result"
    }
   ],
   "source": [
    "strong_correlations_df"
   ]
  },
  {
   "cell_type": "markdown",
   "id": "0365f80c",
   "metadata": {},
   "source": [
    "We plot the scatter plots between the first of the above two pairs of features (as both features are not Boolean):"
   ]
  },
  {
   "cell_type": "code",
   "execution_count": 18,
   "id": "3271ee78",
   "metadata": {},
   "outputs": [
    {
     "data": {
      "text/plain": [
       "<matplotlib.axes._subplots.AxesSubplot at 0x105c510f0>"
      ]
     },
     "execution_count": 18,
     "metadata": {},
     "output_type": "execute_result"
    },
    {
     "data": {
      "image/png": "[encoded data removed]",
      "text/plain": [
       "<Figure size 864x432 with 1 Axes>"
      ]
     },
     "metadata": {
      "needs_background": "light"
     },
     "output_type": "display_data"
    }
   ],
   "source": [
    "data.plot.scatter(x = 'tenure/month',\n",
    "                  y = 'TotalCharges',\n",
    "                  figsize = (12, 6),\n",
    "                  title = 'Scatterplot of Total Charges vs. Tenure in Months')"
   ]
  },
  {
   "cell_type": "markdown",
   "id": "f23f107e",
   "metadata": {},
   "source": [
    "Which one feature in each of the two pairs should we eliminate? It seems we should keep `TotalCharges` and `MonthlyCharges` as both are not Boolean, but that is a weak argument. Can `tenure/month` be inferred by the ratio of `TotalCharges` to `MonthlyCharges`?"
   ]
  },
  {
   "cell_type": "code",
   "execution_count": 19,
   "id": "c1e4c57a",
   "metadata": {},
   "outputs": [],
   "source": [
    "compare_monthly_tenure = data['TotalCharges'] / data['MonthlyCharges'] - data['tenure/month']"
   ]
  },
  {
   "cell_type": "code",
   "execution_count": 20,
   "id": "086d1220",
   "metadata": {},
   "outputs": [
    {
     "data": {
      "text/plain": [
       "<matplotlib.axes._subplots.AxesSubplot at 0x119f9fbe0>"
      ]
     },
     "execution_count": 20,
     "metadata": {},
     "output_type": "execute_result"
    },
    {
     "data": {
      "image/png": "[encoded data removed]",
      "text/plain": [
       "<Figure size 864x432 with 1 Axes>"
      ]
     },
     "metadata": {
      "needs_background": "light"
     },
     "output_type": "display_data"
    }
   ],
   "source": [
    "compare_monthly_tenure.plot.hist(bins = 100,\n",
    "                                 figsize = (12,6),\n",
    "                                 title = 'Distribution of Total Charges / Monthly Charges - tenure/month')"
   ]
  },
  {
   "cell_type": "markdown",
   "id": "67c8e589",
   "metadata": {},
   "source": [
    "It seems that there is a concentration around zero but there is also a lot of error."
   ]
  },
  {
   "cell_type": "code",
   "execution_count": 21,
   "id": "94428af7",
   "metadata": {},
   "outputs": [
    {
     "data": {
      "text/plain": [
       "count    7043.000000\n",
       "mean        0.002282\n",
       "std         1.135584\n",
       "min        -6.941748\n",
       "25%        -0.517380\n",
       "50%         0.000000\n",
       "75%         0.488900\n",
       "max         7.706941\n",
       "dtype: float64"
      ]
     },
     "execution_count": 21,
     "metadata": {},
     "output_type": "execute_result"
    }
   ],
   "source": [
    "compare_monthly_tenure.describe()"
   ]
  },
  {
   "cell_type": "markdown",
   "id": "b787a5b0",
   "metadata": {},
   "source": [
    "Indeed, the average value is close to zero but there is a large range of the deviation from around $-7$ to $7.7$.\n",
    "\n",
    "The skewness is positive, so we do not get exact symmetry around zero here."
   ]
  },
  {
   "cell_type": "code",
   "execution_count": 22,
   "id": "74cb5f72",
   "metadata": {},
   "outputs": [
    {
     "data": {
      "text/plain": [
       "0.17202712479214038"
      ]
     },
     "execution_count": 22,
     "metadata": {},
     "output_type": "execute_result"
    }
   ],
   "source": [
    "skew(compare_monthly_tenure)"
   ]
  },
  {
   "cell_type": "markdown",
   "id": "5ddcc332",
   "metadata": {},
   "source": [
    "The point is that `tenure/month` cannot be recovered exactly through `TotalCharges` and `MonthlyCharges`.\n",
    "\n",
    "We try a more formal approach using the variance inflation factor (VIF). See https://www.geeksforgeeks.org/detecting-multicollinearity-with-vif-python/ (last accessed 2/4/2022). Intuitively this is a measure of how much each input feature is correlated with all other input features.\n",
    "\n",
    "We only get the input columns."
   ]
  },
  {
   "cell_type": "code",
   "execution_count": 23,
   "id": "be0a7d5e",
   "metadata": {},
   "outputs": [],
   "source": [
    "data_X = data[list(data)[:-1]]"
   ]
  },
  {
   "cell_type": "markdown",
   "id": "7281a3fa",
   "metadata": {},
   "source": [
    "We construct the VIF dataframe:"
   ]
  },
  {
   "cell_type": "code",
   "execution_count": 24,
   "id": "1cf59fcc",
   "metadata": {},
   "outputs": [
    {
     "name": "stderr",
     "output_type": "stream",
     "text": [
      "/usr/local/lib/python3.7/site-packages/statsmodels/stats/outliers_influence.py:193: RuntimeWarning: divide by zero encountered in double_scalars\n",
      "  vif = 1. / (1. - r_squared_i)\n"
     ]
    }
   ],
   "source": [
    "vif_data = pd.DataFrame()\n",
    "vif_data['feature'] = data_X.columns\n",
    "vif_data['vif'] = [variance_inflation_factor(data_X.values, i) for i in range(len(data_X.columns))]"
   ]
  },
  {
   "cell_type": "code",
   "execution_count": 25,
   "id": "f0a9e5b2",
   "metadata": {},
   "outputs": [],
   "source": [
    "vif_data = vif_data.sort_values(by = 'vif').reset_index(drop = True)"
   ]
  },
  {
   "cell_type": "code",
   "execution_count": 26,
   "id": "0b28fd9d",
   "metadata": {},
   "outputs": [
    {
     "data": {
      "text/html": [
       "<div>\n",
       "<style scoped>\n",
       "    .dataframe tbody tr th:only-of-type {\n",
       "        vertical-align: middle;\n",
       "    }\n",
       "\n",
       "    .dataframe tbody tr th {\n",
       "        vertical-align: top;\n",
       "    }\n",
       "\n",
       "    .dataframe thead th {\n",
       "        text-align: right;\n",
       "    }\n",
       "</style>\n",
       "<table border=\"1\" class=\"dataframe\">\n",
       "  <thead>\n",
       "    <tr style=\"text-align: right;\">\n",
       "      <th></th>\n",
       "      <th>feature</th>\n",
       "      <th>vif</th>\n",
       "    </tr>\n",
       "  </thead>\n",
       "  <tbody>\n",
       "    <tr>\n",
       "      <th>0</th>\n",
       "      <td>is_female</td>\n",
       "      <td>1.002137</td>\n",
       "    </tr>\n",
       "    <tr>\n",
       "      <th>1</th>\n",
       "      <td>SeniorCitizen</td>\n",
       "      <td>1.153365</td>\n",
       "    </tr>\n",
       "    <tr>\n",
       "      <th>2</th>\n",
       "      <td>PaperlessBilling</td>\n",
       "      <td>1.209020</td>\n",
       "    </tr>\n",
       "    <tr>\n",
       "      <th>3</th>\n",
       "      <td>Dependents</td>\n",
       "      <td>1.384430</td>\n",
       "    </tr>\n",
       "    <tr>\n",
       "      <th>4</th>\n",
       "      <td>Partner</td>\n",
       "      <td>1.462701</td>\n",
       "    </tr>\n",
       "    <tr>\n",
       "      <th>5</th>\n",
       "      <td>OnlineSecurity</td>\n",
       "      <td>6.336249</td>\n",
       "    </tr>\n",
       "    <tr>\n",
       "      <th>6</th>\n",
       "      <td>TechSupport</td>\n",
       "      <td>6.467893</td>\n",
       "    </tr>\n",
       "    <tr>\n",
       "      <th>7</th>\n",
       "      <td>OnlineBackup</td>\n",
       "      <td>6.782866</td>\n",
       "    </tr>\n",
       "    <tr>\n",
       "      <th>8</th>\n",
       "      <td>DeviceProtection</td>\n",
       "      <td>6.922434</td>\n",
       "    </tr>\n",
       "    <tr>\n",
       "      <th>9</th>\n",
       "      <td>MultipleLines</td>\n",
       "      <td>7.273906</td>\n",
       "    </tr>\n",
       "    <tr>\n",
       "      <th>10</th>\n",
       "      <td>tenure/month</td>\n",
       "      <td>7.527280</td>\n",
       "    </tr>\n",
       "    <tr>\n",
       "      <th>11</th>\n",
       "      <td>TotalCharges</td>\n",
       "      <td>10.793729</td>\n",
       "    </tr>\n",
       "    <tr>\n",
       "      <th>12</th>\n",
       "      <td>StreamingTV</td>\n",
       "      <td>24.056827</td>\n",
       "    </tr>\n",
       "    <tr>\n",
       "      <th>13</th>\n",
       "      <td>StreamingMovies</td>\n",
       "      <td>24.110253</td>\n",
       "    </tr>\n",
       "    <tr>\n",
       "      <th>14</th>\n",
       "      <td>PhoneService</td>\n",
       "      <td>34.861565</td>\n",
       "    </tr>\n",
       "    <tr>\n",
       "      <th>15</th>\n",
       "      <td>internet_service_is_dsl</td>\n",
       "      <td>138.518503</td>\n",
       "    </tr>\n",
       "    <tr>\n",
       "      <th>16</th>\n",
       "      <td>internet_service_is_fiber_optic</td>\n",
       "      <td>591.208934</td>\n",
       "    </tr>\n",
       "    <tr>\n",
       "      <th>17</th>\n",
       "      <td>MonthlyCharges</td>\n",
       "      <td>865.062147</td>\n",
       "    </tr>\n",
       "    <tr>\n",
       "      <th>18</th>\n",
       "      <td>Contract_is_one_year</td>\n",
       "      <td>inf</td>\n",
       "    </tr>\n",
       "    <tr>\n",
       "      <th>19</th>\n",
       "      <td>Contract_is_two_year</td>\n",
       "      <td>inf</td>\n",
       "    </tr>\n",
       "    <tr>\n",
       "      <th>20</th>\n",
       "      <td>PaymentMethod_is_electronic_check</td>\n",
       "      <td>inf</td>\n",
       "    </tr>\n",
       "    <tr>\n",
       "      <th>21</th>\n",
       "      <td>PaymentMethod_is_mailed_check</td>\n",
       "      <td>inf</td>\n",
       "    </tr>\n",
       "    <tr>\n",
       "      <th>22</th>\n",
       "      <td>PaymentMethod_is_bank_transfer</td>\n",
       "      <td>inf</td>\n",
       "    </tr>\n",
       "    <tr>\n",
       "      <th>23</th>\n",
       "      <td>PaymentMethod_is_credit_card</td>\n",
       "      <td>inf</td>\n",
       "    </tr>\n",
       "    <tr>\n",
       "      <th>24</th>\n",
       "      <td>Contract_is_month-to-month</td>\n",
       "      <td>inf</td>\n",
       "    </tr>\n",
       "  </tbody>\n",
       "</table>\n",
       "</div>"
      ],
      "text/plain": [
       "                              feature         vif\n",
       "0                           is_female    1.002137\n",
       "1                       SeniorCitizen    1.153365\n",
       "2                    PaperlessBilling    1.209020\n",
       "3                          Dependents    1.384430\n",
       "4                             Partner    1.462701\n",
       "5                      OnlineSecurity    6.336249\n",
       "6                         TechSupport    6.467893\n",
       "7                        OnlineBackup    6.782866\n",
       "8                    DeviceProtection    6.922434\n",
       "9                       MultipleLines    7.273906\n",
       "10                       tenure/month    7.527280\n",
       "11                       TotalCharges   10.793729\n",
       "12                        StreamingTV   24.056827\n",
       "13                    StreamingMovies   24.110253\n",
       "14                       PhoneService   34.861565\n",
       "15            internet_service_is_dsl  138.518503\n",
       "16    internet_service_is_fiber_optic  591.208934\n",
       "17                     MonthlyCharges  865.062147\n",
       "18               Contract_is_one_year         inf\n",
       "19               Contract_is_two_year         inf\n",
       "20  PaymentMethod_is_electronic_check         inf\n",
       "21      PaymentMethod_is_mailed_check         inf\n",
       "22     PaymentMethod_is_bank_transfer         inf\n",
       "23       PaymentMethod_is_credit_card         inf\n",
       "24         Contract_is_month-to-month         inf"
      ]
     },
     "execution_count": 26,
     "metadata": {},
     "output_type": "execute_result"
    }
   ],
   "source": [
    "vif_data"
   ]
  },
  {
   "cell_type": "markdown",
   "id": "9b12f08b",
   "metadata": {},
   "source": [
    "Notice that VIF is infinite for some features as it is defined as $\\frac{1}{1-R^2}$, where $R^2$ is an appropriate coefficient of determination of that feature. The point is that the larger the VIF, the more correlated it is with other features overall. However, referring back to our original correlation matrix, out of the highly correlated features here:"
   ]
  },
  {
   "cell_type": "code",
   "execution_count": 27,
   "id": "c843a736",
   "metadata": {},
   "outputs": [
    {
     "data": {
      "text/html": [
       "<div>\n",
       "<style scoped>\n",
       "    .dataframe tbody tr th:only-of-type {\n",
       "        vertical-align: middle;\n",
       "    }\n",
       "\n",
       "    .dataframe tbody tr th {\n",
       "        vertical-align: top;\n",
       "    }\n",
       "\n",
       "    .dataframe thead th {\n",
       "        text-align: right;\n",
       "    }\n",
       "</style>\n",
       "<table border=\"1\" class=\"dataframe\">\n",
       "  <thead>\n",
       "    <tr style=\"text-align: right;\">\n",
       "      <th></th>\n",
       "      <th>column1</th>\n",
       "      <th>column2</th>\n",
       "      <th>correlation</th>\n",
       "    </tr>\n",
       "  </thead>\n",
       "  <tbody>\n",
       "    <tr>\n",
       "      <th>0</th>\n",
       "      <td>tenure/month</td>\n",
       "      <td>TotalCharges</td>\n",
       "      <td>0.826178</td>\n",
       "    </tr>\n",
       "    <tr>\n",
       "      <th>1</th>\n",
       "      <td>internet_service_is_fiber_optic</td>\n",
       "      <td>MonthlyCharges</td>\n",
       "      <td>0.787066</td>\n",
       "    </tr>\n",
       "  </tbody>\n",
       "</table>\n",
       "</div>"
      ],
      "text/plain": [
       "                           column1         column2  correlation\n",
       "0                     tenure/month    TotalCharges     0.826178\n",
       "1  internet_service_is_fiber_optic  MonthlyCharges     0.787066"
      ]
     },
     "execution_count": 27,
     "metadata": {},
     "output_type": "execute_result"
    }
   ],
   "source": [
    "strong_correlations_df"
   ]
  },
  {
   "cell_type": "markdown",
   "id": "0ce18ab5",
   "metadata": {},
   "source": [
    "We should eliminate the feature in each pair with the highest VIF, which according to the above table are `TotalCharges` and `MonthlyCharges`. However, it seems undesirable to eliminate both features that involve how much a customer is paying. Therefore, we will get rid of `internet_service_is_fiber_optic` instead of `MonthlyCharges`. Getting rid of `TotalCharges` loses information as we cannot exactly reconstruct its values from `MonthlyCharges` and `tenure/month` as shown above.\n",
    "\n",
    "**N.B.** Perhaps this argument as to which features to eliminate is not very principled, but we will proceed as given."
   ]
  },
  {
   "cell_type": "markdown",
   "id": "21d14f4c",
   "metadata": {},
   "source": [
    "# Conclusions\n",
    "\n",
    "In our above analysis, we will perform the following prior to modelling:\n",
    "\n",
    "  1. Balance out both classes of `Churn`, either by downsampling the majority class or upsampling the minority class.\n",
    "  \n",
    "  2. Get rid of the input features `internet_service_is_fiber_optic` and `TotalCharges` to resolve multicollinearity.\n",
    "  \n",
    "Note that the second point is relevant as we plan to model this data with logistic regression. However, multicollinearity is not so much of a problem for, e.g. random forest (see https://stats.stackexchange.com/questions/141619/wont-highly-correlated-variables-in-random-forest-distort-accuracy-and-feature, last accessed 2/4/2022). But we wish to compare various machine learning models on the same dataset, so we will also get rid of the above two features for models where multicollinearity is not much of a problem.\n",
    "\n",
    "In the next notebook, we will train and tune five models to predict churn, and apply SHAP on the most accurate model to identify the most important features influencing churn."
   ]
  },
  {
   "cell_type": "code",
   "execution_count": 28,
   "id": "076f2d73",
   "metadata": {},
   "outputs": [
    {
     "data": {
      "text/plain": [
       "'Notebook done in 0:00:07.781951.'"
      ]
     },
     "execution_count": 28,
     "metadata": {},
     "output_type": "execute_result"
    }
   ],
   "source": [
    "\"Notebook done in \" + str(datetime.timedelta(seconds=time.time() - START)) + \".\""
   ]
  }
 ],
 "metadata": {
  "kernelspec": {
   "display_name": "Python 3",
   "language": "python",
   "name": "python3"
  },
  "language_info": {
   "codemirror_mode": {
    "name": "ipython",
    "version": 3
   },
   "file_extension": ".py",
   "mimetype": "text/x-python",
   "name": "python",
   "nbconvert_exporter": "python",
   "pygments_lexer": "ipython3",
   "version": "3.7.1"
  }
 },
 "nbformat": 4,
 "nbformat_minor": 5
}
